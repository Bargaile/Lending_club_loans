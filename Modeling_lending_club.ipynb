{
 "cells": [
  {
   "cell_type": "markdown",
   "metadata": {},
   "source": [
    "# 1. Set up"
   ]
  },
  {
   "cell_type": "code",
   "execution_count": null,
   "metadata": {},
   "outputs": [],
   "source": [
    "from helpers import helpers as h\n",
    "\n",
    "import pandas as pd\n",
    "import numpy as np\n",
    "import seaborn as sns\n",
    "import optuna\n",
    "import shap\n",
    "import matplotlib.pyplot as plt\n",
    "from collections import Counter\n",
    "\n",
    "from scipy.stats import loguniform\n",
    "import category_encoders as ce\n",
    "from joblib import dump\n",
    "from plotnine import *\n",
    "\n",
    "from xgboost import XGBClassifier, XGBRegressor\n",
    "from lightgbm import LGBMClassifier, LGBMRegressor\n",
    "\n",
    "from imblearn.under_sampling import RandomUnderSampler\n",
    "\n",
    "from sklearn.pipeline import Pipeline\n",
    "from sklearn.compose import ColumnTransformer\n",
    "from sklearn.preprocessing import StandardScaler, OrdinalEncoder, OneHotEncoder, LabelEncoder\n",
    "from sklearn.decomposition import PCA\n",
    "from sklearn.model_selection import train_test_split, StratifiedKFold, KFold , cross_validate, cross_val_score\n",
    "from sklearn.inspection import permutation_importance\n",
    "from sklearn.metrics import plot_precision_recall_curve\n",
    "from sklearn.metrics import PrecisionRecallDisplay, confusion_matrix, ConfusionMatrixDisplay, r2_score, roc_curve, RocCurveDisplay\n",
    "from sklearn.metrics import mean_squared_error, roc_auc_score, log_loss, accuracy_score, confusion_matrix, precision_recall_curve\n",
    "from sklearn.metrics import precision_score, plot_confusion_matrix, f1_score, recall_score, classification_report\n",
    "\n",
    "from sklearn.linear_model import LogisticRegression, LinearRegression, ElasticNet\n",
    "from sklearn.svm import SVC, SVR\n",
    "\n",
    "from IPython.display import Image\n",
    "import warnings\n",
    "warnings.simplefilter(action=\"ignore\", category=FutureWarning)\n",
    "%matplotlib inline   \n",
    "%load_ext blackcellmagic"
   ]
  },
  {
   "cell_type": "code",
   "execution_count": 38,
   "metadata": {},
   "outputs": [],
   "source": [
    "pd.set_option(\"display.max_columns\", None)\n",
    "pd.set_option(\"display.max_rows\", None)\n",
    "pd.set_option(\"float_format\", \"{:.2f}\".format)"
   ]
  },
  {
   "cell_type": "code",
   "execution_count": 3,
   "metadata": {},
   "outputs": [],
   "source": [
    "# Data set for predicting loan \"status\": acceptance or rejection.\n",
    "all_loans_df = pd.read_csv(\"all_loans_df.csv\")"
   ]
  },
  {
   "cell_type": "code",
   "execution_count": 58,
   "metadata": {},
   "outputs": [],
   "source": [
    "# Data set for predicting accepted loans: grade, sub_grade and interest rate.\n",
    "accepted_loans_df = pd.read_csv(\"accepted_loans.csv\")"
   ]
  },
  {
   "cell_type": "markdown",
   "metadata": {},
   "source": [
    "# 2. Loan status: accepted/rejected prediction"
   ]
  },
  {
   "cell_type": "markdown",
   "metadata": {},
   "source": [
    "## 2.1. Feature pre-processing"
   ]
  },
  {
   "cell_type": "markdown",
   "metadata": {},
   "source": [
    "Pre-processing steps:\n",
    "1. Categorical into numerical: purpose - one hot encoding, as it has not so many values.\n",
    "2. Categorical addr_state: using binary encoding [idea from here](https://towardsdatascience.com/smarter-ways-to-encode-categorical-data-for-machine-learning-part-1-of-3-6dca2f71b159);\n",
    "3. Months - sin/cos encoding, idea from [here](https://towardsdatascience.com/cyclical-features-encoding-its-about-time-ce23581845ca). Because otherwise the model will consider the gap between December and January - as 11 \"points\", and it's only 1 month away one from each other and also in the EDA we saw, that these two months are very closely related in the number of rejected loans. BUT decision trees based algorithms (Random Forest, Gradient Boosted Trees, XGBoost) build their split rules according to one feature at a time. This means that they will fail to process these two features simultaneously whereas the cos/sin values are expected to be considered as one single coordinates system, so in decision tree based model I can use only \"months\".\n",
    "4. Numerical features - scaling. Log of loan_amnt, fico_score, dti.\n",
    "5. Because of the low capability of my machine's computing power(it took ages only for the base line model to run on 2 million observations data set), I took  a sample of 100 000 observations and decided to leave test and validation data only from the year 2018, training data is from 2013 to 2017 including and also I down sample training data to be equal sizes of \"0\" and \"1\". In this way I did not touch the test and validation data and the proportion of \"0\" and \"1\" is untouched there."
   ]
  },
  {
   "cell_type": "code",
   "execution_count": 5,
   "metadata": {},
   "outputs": [],
   "source": [
    "# all_loans_df = (all_loans_df\n",
    "#     .pipe(h.months_sin_cos, \"month\")\n",
    "#     .pipe(h.log_feature, \"loan_amnt\")\n",
    "#     .pipe(h.log_feature, \"fico_score\")\n",
    "#     .pipe(h.log_feature, \"dti\")\n",
    "# )"
   ]
  },
  {
   "cell_type": "code",
   "execution_count": 120,
   "metadata": {},
   "outputs": [],
   "source": [
    "# all_loans_df = all_loans_df.sample(frac=0.117)"
   ]
  },
  {
   "cell_type": "code",
   "execution_count": 26,
   "metadata": {},
   "outputs": [],
   "source": [
    "# Saved the sample of data, that I'll use for further modeling.\n",
    "# all_loans_df.to_csv(\"used_sample_of_all_loans.csv\", index=False)"
   ]
  },
  {
   "cell_type": "code",
   "execution_count": 40,
   "metadata": {},
   "outputs": [],
   "source": [
    "sample_loans_df = pd.read_csv(\"used_sample_of_all_loans.csv\")"
   ]
  },
  {
   "cell_type": "code",
   "execution_count": 41,
   "metadata": {},
   "outputs": [
    {
     "data": {
      "text/html": [
       "<div>\n",
       "<style scoped>\n",
       "    .dataframe tbody tr th:only-of-type {\n",
       "        vertical-align: middle;\n",
       "    }\n",
       "\n",
       "    .dataframe tbody tr th {\n",
       "        vertical-align: top;\n",
       "    }\n",
       "\n",
       "    .dataframe thead th {\n",
       "        text-align: right;\n",
       "    }\n",
       "</style>\n",
       "<table border=\"1\" class=\"dataframe\">\n",
       "  <thead>\n",
       "    <tr style=\"text-align: right;\">\n",
       "      <th></th>\n",
       "      <th>loan_amnt</th>\n",
       "      <th>purpose</th>\n",
       "      <th>fico_score</th>\n",
       "      <th>dti</th>\n",
       "      <th>addr_state</th>\n",
       "      <th>emp_length</th>\n",
       "      <th>year</th>\n",
       "      <th>month</th>\n",
       "      <th>status</th>\n",
       "      <th>cos_month</th>\n",
       "      <th>sin_month</th>\n",
       "      <th>log_loan_amnt</th>\n",
       "      <th>log_fico_score</th>\n",
       "      <th>log_dti</th>\n",
       "    </tr>\n",
       "  </thead>\n",
       "  <tbody>\n",
       "    <tr>\n",
       "      <th>0</th>\n",
       "      <td>12000.00</td>\n",
       "      <td>debt_consolidation</td>\n",
       "      <td>792.00</td>\n",
       "      <td>13.92</td>\n",
       "      <td>GA</td>\n",
       "      <td>10</td>\n",
       "      <td>2013</td>\n",
       "      <td>3</td>\n",
       "      <td>0</td>\n",
       "      <td>0.00</td>\n",
       "      <td>1.00</td>\n",
       "      <td>9.39</td>\n",
       "      <td>6.67</td>\n",
       "      <td>2.63</td>\n",
       "    </tr>\n",
       "    <tr>\n",
       "      <th>1</th>\n",
       "      <td>4500.00</td>\n",
       "      <td>vacation</td>\n",
       "      <td>537.00</td>\n",
       "      <td>2.66</td>\n",
       "      <td>MD</td>\n",
       "      <td>0</td>\n",
       "      <td>2017</td>\n",
       "      <td>11</td>\n",
       "      <td>0</td>\n",
       "      <td>0.87</td>\n",
       "      <td>-0.50</td>\n",
       "      <td>8.41</td>\n",
       "      <td>6.29</td>\n",
       "      <td>0.98</td>\n",
       "    </tr>\n",
       "    <tr>\n",
       "      <th>2</th>\n",
       "      <td>1000.00</td>\n",
       "      <td>other</td>\n",
       "      <td>582.00</td>\n",
       "      <td>16.38</td>\n",
       "      <td>MO</td>\n",
       "      <td>0</td>\n",
       "      <td>2016</td>\n",
       "      <td>4</td>\n",
       "      <td>0</td>\n",
       "      <td>-0.50</td>\n",
       "      <td>0.87</td>\n",
       "      <td>6.91</td>\n",
       "      <td>6.37</td>\n",
       "      <td>2.80</td>\n",
       "    </tr>\n",
       "    <tr>\n",
       "      <th>3</th>\n",
       "      <td>1800.00</td>\n",
       "      <td>other</td>\n",
       "      <td>701.00</td>\n",
       "      <td>12.79</td>\n",
       "      <td>MD</td>\n",
       "      <td>5</td>\n",
       "      <td>2014</td>\n",
       "      <td>7</td>\n",
       "      <td>0</td>\n",
       "      <td>-0.87</td>\n",
       "      <td>-0.50</td>\n",
       "      <td>7.50</td>\n",
       "      <td>6.55</td>\n",
       "      <td>2.55</td>\n",
       "    </tr>\n",
       "    <tr>\n",
       "      <th>4</th>\n",
       "      <td>15000.00</td>\n",
       "      <td>car</td>\n",
       "      <td>730.00</td>\n",
       "      <td>21.08</td>\n",
       "      <td>FL</td>\n",
       "      <td>0</td>\n",
       "      <td>2014</td>\n",
       "      <td>4</td>\n",
       "      <td>0</td>\n",
       "      <td>-0.50</td>\n",
       "      <td>0.87</td>\n",
       "      <td>9.62</td>\n",
       "      <td>6.59</td>\n",
       "      <td>3.05</td>\n",
       "    </tr>\n",
       "  </tbody>\n",
       "</table>\n",
       "</div>"
      ],
      "text/plain": [
       "   loan_amnt             purpose  fico_score   dti addr_state  emp_length  \\\n",
       "0   12000.00  debt_consolidation      792.00 13.92         GA          10   \n",
       "1    4500.00            vacation      537.00  2.66         MD           0   \n",
       "2    1000.00               other      582.00 16.38         MO           0   \n",
       "3    1800.00               other      701.00 12.79         MD           5   \n",
       "4   15000.00                 car      730.00 21.08         FL           0   \n",
       "\n",
       "   year  month  status  cos_month  sin_month  log_loan_amnt  log_fico_score  \\\n",
       "0  2013      3       0       0.00       1.00           9.39            6.67   \n",
       "1  2017     11       0       0.87      -0.50           8.41            6.29   \n",
       "2  2016      4       0      -0.50       0.87           6.91            6.37   \n",
       "3  2014      7       0      -0.87      -0.50           7.50            6.55   \n",
       "4  2014      4       0      -0.50       0.87           9.62            6.59   \n",
       "\n",
       "   log_dti  \n",
       "0     2.63  \n",
       "1     0.98  \n",
       "2     2.80  \n",
       "3     2.55  \n",
       "4     3.05  "
      ]
     },
     "execution_count": 41,
     "metadata": {},
     "output_type": "execute_result"
    }
   ],
   "source": [
    "sample_loans_df.head()"
   ]
  },
  {
   "cell_type": "code",
   "execution_count": 42,
   "metadata": {},
   "outputs": [
    {
     "data": {
      "text/plain": [
       "1107144"
      ]
     },
     "execution_count": 42,
     "metadata": {},
     "output_type": "execute_result"
    }
   ],
   "source": [
    "len(sample_loans_df)"
   ]
  },
  {
   "cell_type": "code",
   "execution_count": 43,
   "metadata": {},
   "outputs": [],
   "source": [
    "# Separating the year 2018.\n",
    "val_data_2018 = sample_loans_df[sample_loans_df[\"year\"] ==2018]\n",
    "train_data = sample_loans_df[sample_loans_df[\"year\"] != 2018]"
   ]
  },
  {
   "cell_type": "code",
   "execution_count": 44,
   "metadata": {},
   "outputs": [],
   "source": [
    "X_train = train_data.drop(columns=[\"status\"], axis=1)\n",
    "y_train = train_data.status"
   ]
  },
  {
   "cell_type": "code",
   "execution_count": 45,
   "metadata": {},
   "outputs": [],
   "source": [
    "X_remain = val_data_2018.drop(columns=[\"status\"])\n",
    "y_remain = val_data_2018.status\n",
    "X_val, X_test, y_val, y_test = train_test_split(\n",
    "    X_remain, y_remain, test_size=0.5, random_state=123\n",
    ")"
   ]
  },
  {
   "cell_type": "markdown",
   "metadata": {},
   "source": [
    "* Undersampling train data to be equal of both \"status\" groups."
   ]
  },
  {
   "cell_type": "code",
   "execution_count": 46,
   "metadata": {},
   "outputs": [
    {
     "data": {
      "text/plain": [
       "Counter({0: 885680, 1: 110944})"
      ]
     },
     "execution_count": 46,
     "metadata": {},
     "output_type": "execute_result"
    }
   ],
   "source": [
    "Counter(y_train)"
   ]
  },
  {
   "cell_type": "code",
   "execution_count": 47,
   "metadata": {},
   "outputs": [
    {
     "name": "stdout",
     "output_type": "stream",
     "text": [
      "Counter({0: 110944, 1: 110944})\n"
     ]
    }
   ],
   "source": [
    "undersampler = RandomUnderSampler(sampling_strategy=\"majority\", random_state=123)\n",
    "# fit and apply the transform\n",
    "X_train_under, y_train_under = undersampler.fit_resample(X_train, y_train)\n",
    "# summarize class distribution\n",
    "print(Counter(y_train_under))"
   ]
  },
  {
   "cell_type": "markdown",
   "metadata": {},
   "source": [
    "* Defining features and pre-processors."
   ]
  },
  {
   "cell_type": "code",
   "execution_count": 49,
   "metadata": {},
   "outputs": [],
   "source": [
    "numeric_features = [\"loan_amnt\", \"fico_score\", \"dti\", \"year\", \"month\", \"cos_month\", \"sin_month\", \"log_loan_amnt\", \"log_fico_score\", \"log_dti\"]\n",
    "one_hot_features = [\"purpose\", \"emp_length\"]\n",
    "binary_features = [\"addr_state\"]"
   ]
  },
  {
   "cell_type": "code",
   "execution_count": 50,
   "metadata": {},
   "outputs": [],
   "source": [
    "one_hot_transformer = Pipeline(\n",
    "    steps=[(\"one_hot_encoder\", OneHotEncoder(handle_unknown=\"ignore\"))]\n",
    ")\n",
    "\n",
    "binary_transformer = Pipeline(\n",
    "    steps=[(\"binary_encoder\", ce.BinaryEncoder(cols=binary_features))]\n",
    ")\n",
    "\n",
    "numeric_transformer = Pipeline(steps=[(\"scaler\", StandardScaler())])\n",
    "\n",
    "preprocessor = ColumnTransformer(\n",
    "    transformers=[\n",
    "        (\"numeric\", numeric_transformer, numeric_features,),\n",
    "        (\"one_hot\", one_hot_transformer, one_hot_features),\n",
    "        (\"binary\", binary_transformer, binary_features),\n",
    "    ]\n",
    ")"
   ]
  },
  {
   "cell_type": "markdown",
   "metadata": {},
   "source": [
    "## 2.2. Cross-validation of baseline models"
   ]
  },
  {
   "cell_type": "code",
   "execution_count": null,
   "metadata": {},
   "outputs": [],
   "source": [
    "# baseline = base_line(X_train_under, y_train_under, preprocessor)"
   ]
  },
  {
   "cell_type": "code",
   "execution_count": 22,
   "metadata": {},
   "outputs": [
    {
     "data": {
      "text/html": [
       "<style type=\"text/css\">\n",
       "#T_c4308_row0_col0, #T_c4308_row0_col1, #T_c4308_row0_col2, #T_c4308_row0_col3, #T_c4308_row0_col4, #T_c4308_row0_col5, #T_c4308_row3_col6 {\n",
       "  background-color: #f7fcf5;\n",
       "  color: #000000;\n",
       "}\n",
       "#T_c4308_row0_col6 {\n",
       "  background-color: #f0f9ed;\n",
       "  color: #000000;\n",
       "}\n",
       "#T_c4308_row1_col0, #T_c4308_row1_col1, #T_c4308_row1_col2, #T_c4308_row1_col3, #T_c4308_row1_col4 {\n",
       "  background-color: #e4f5df;\n",
       "  color: #000000;\n",
       "}\n",
       "#T_c4308_row1_col5 {\n",
       "  background-color: #d3eecd;\n",
       "  color: #000000;\n",
       "}\n",
       "#T_c4308_row1_col6, #T_c4308_row2_col0, #T_c4308_row2_col1, #T_c4308_row2_col2, #T_c4308_row2_col3, #T_c4308_row2_col4, #T_c4308_row2_col5 {\n",
       "  background-color: #00441b;\n",
       "  color: #f1f1f1;\n",
       "}\n",
       "#T_c4308_row2_col6 {\n",
       "  background-color: #f4fbf2;\n",
       "  color: #000000;\n",
       "}\n",
       "#T_c4308_row3_col0, #T_c4308_row3_col1, #T_c4308_row3_col2, #T_c4308_row3_col3, #T_c4308_row3_col4 {\n",
       "  background-color: #005b25;\n",
       "  color: #f1f1f1;\n",
       "}\n",
       "#T_c4308_row3_col5 {\n",
       "  background-color: #004a1e;\n",
       "  color: #f1f1f1;\n",
       "}\n",
       "</style>\n",
       "<table id=\"T_c4308\">\n",
       "  <thead>\n",
       "    <tr>\n",
       "      <th class=\"blank level0\" >&nbsp;</th>\n",
       "      <th id=\"T_c4308_level0_col0\" class=\"col_heading level0 col0\" >Balanced accuracy</th>\n",
       "      <th id=\"T_c4308_level0_col1\" class=\"col_heading level0 col1\" >Accuracy</th>\n",
       "      <th id=\"T_c4308_level0_col2\" class=\"col_heading level0 col2\" >Recall</th>\n",
       "      <th id=\"T_c4308_level0_col3\" class=\"col_heading level0 col3\" >Precision</th>\n",
       "      <th id=\"T_c4308_level0_col4\" class=\"col_heading level0 col4\" >f1</th>\n",
       "      <th id=\"T_c4308_level0_col5\" class=\"col_heading level0 col5\" >Roc Auc</th>\n",
       "      <th id=\"T_c4308_level0_col6\" class=\"col_heading level0 col6\" >Fit_time</th>\n",
       "    </tr>\n",
       "  </thead>\n",
       "  <tbody>\n",
       "    <tr>\n",
       "      <th id=\"T_c4308_level0_row0\" class=\"row_heading level0 row0\" >Logistic regression</th>\n",
       "      <td id=\"T_c4308_row0_col0\" class=\"data row0 col0\" >0.945418</td>\n",
       "      <td id=\"T_c4308_row0_col1\" class=\"data row0 col1\" >0.945418</td>\n",
       "      <td id=\"T_c4308_row0_col2\" class=\"data row0 col2\" >0.945418</td>\n",
       "      <td id=\"T_c4308_row0_col3\" class=\"data row0 col3\" >0.945423</td>\n",
       "      <td id=\"T_c4308_row0_col4\" class=\"data row0 col4\" >0.945418</td>\n",
       "      <td id=\"T_c4308_row0_col5\" class=\"data row0 col5\" >0.985846</td>\n",
       "      <td id=\"T_c4308_row0_col6\" class=\"data row0 col6\" >18.021713</td>\n",
       "    </tr>\n",
       "    <tr>\n",
       "      <th id=\"T_c4308_level0_row1\" class=\"row_heading level0 row1\" >SVC</th>\n",
       "      <td id=\"T_c4308_row1_col0\" class=\"data row1 col0\" >0.950565</td>\n",
       "      <td id=\"T_c4308_row1_col1\" class=\"data row1 col1\" >0.950565</td>\n",
       "      <td id=\"T_c4308_row1_col2\" class=\"data row1 col2\" >0.950565</td>\n",
       "      <td id=\"T_c4308_row1_col3\" class=\"data row1 col3\" >0.950613</td>\n",
       "      <td id=\"T_c4308_row1_col4\" class=\"data row1 col4\" >0.950564</td>\n",
       "      <td id=\"T_c4308_row1_col5\" class=\"data row1 col5\" >0.988406</td>\n",
       "      <td id=\"T_c4308_row1_col6\" class=\"data row1 col6\" >338.467058</td>\n",
       "    </tr>\n",
       "    <tr>\n",
       "      <th id=\"T_c4308_level0_row2\" class=\"row_heading level0 row2\" >XGB classifier</th>\n",
       "      <td id=\"T_c4308_row2_col0\" class=\"data row2 col0\" >0.984699</td>\n",
       "      <td id=\"T_c4308_row2_col1\" class=\"data row2 col1\" >0.984699</td>\n",
       "      <td id=\"T_c4308_row2_col2\" class=\"data row2 col2\" >0.984699</td>\n",
       "      <td id=\"T_c4308_row2_col3\" class=\"data row2 col3\" >0.984743</td>\n",
       "      <td id=\"T_c4308_row2_col4\" class=\"data row2 col4\" >0.984699</td>\n",
       "      <td id=\"T_c4308_row2_col5\" class=\"data row2 col5\" >0.998494</td>\n",
       "      <td id=\"T_c4308_row2_col6\" class=\"data row2 col6\" >8.482216</td>\n",
       "    </tr>\n",
       "    <tr>\n",
       "      <th id=\"T_c4308_level0_row3\" class=\"row_heading level0 row3\" >LGBM classifier</th>\n",
       "      <td id=\"T_c4308_row3_col0\" class=\"data row3 col0\" >0.981860</td>\n",
       "      <td id=\"T_c4308_row3_col1\" class=\"data row3 col1\" >0.981860</td>\n",
       "      <td id=\"T_c4308_row3_col2\" class=\"data row3 col2\" >0.981860</td>\n",
       "      <td id=\"T_c4308_row3_col3\" class=\"data row3 col3\" >0.981935</td>\n",
       "      <td id=\"T_c4308_row3_col4\" class=\"data row3 col4\" >0.981860</td>\n",
       "      <td id=\"T_c4308_row3_col5\" class=\"data row3 col5\" >0.998217</td>\n",
       "      <td id=\"T_c4308_row3_col6\" class=\"data row3 col6\" >1.616052</td>\n",
       "    </tr>\n",
       "  </tbody>\n",
       "</table>\n"
      ],
      "text/plain": [
       "<pandas.io.formats.style.Styler at 0x1db37225730>"
      ]
     },
     "execution_count": 22,
     "metadata": {},
     "output_type": "execute_result"
    }
   ],
   "source": [
    "# baseline"
   ]
  },
  {
   "cell_type": "markdown",
   "metadata": {},
   "source": [
    "According to the ROC AUC score (as in general, if taking all size of it, we have a very imbalanced data from origin) and the fitting time, I'll continue with XGB classifier and LGBM classifier."
   ]
  },
  {
   "cell_type": "markdown",
   "metadata": {},
   "source": [
    "## 2.3. XGB classifier"
   ]
  },
  {
   "cell_type": "markdown",
   "metadata": {},
   "source": [
    "First of my intentions is to check the importance of one_hot_encoding and data scaling in the tree based algorithms. As I got the best values of tree based algorithms, I will try to use my earlier defined pipeline and another, with no scaling, one_hot encoding, using only ordinal encoder. The idea is taken from [here](https://towardsdatascience.com/one-hot-encoding-is-making-your-tree-based-ensembles-worse-heres-why-d64b282b5769)"
   ]
  },
  {
   "cell_type": "markdown",
   "metadata": {},
   "source": [
    "## 2.3.1. XGB classifier, with scaling, one_hot encoded features and months sin/cos values"
   ]
  },
  {
   "cell_type": "code",
   "execution_count": null,
   "metadata": {},
   "outputs": [],
   "source": [
    "xgb_loans_1 = Pipeline(\n",
    "    steps=[\n",
    "        (\"preprocessor\", preprocessor),\n",
    "        (\"classifier\", XGBClassifier(random_state=123, use_label_encoder=False)),\n",
    "    ]\n",
    ").fit(X_train_under, y_train_under)"
   ]
  },
  {
   "cell_type": "code",
   "execution_count": 133,
   "metadata": {},
   "outputs": [],
   "source": [
    "y_hat_train_xgb = xgb_loans_1.predict(X_train_under)\n",
    "y_hat_val_xgb = xgb_loans_1.predict(X_val)"
   ]
  },
  {
   "cell_type": "code",
   "execution_count": 72,
   "metadata": {},
   "outputs": [],
   "source": [
    "labels = [\"no\", \"yes\"]"
   ]
  },
  {
   "cell_type": "code",
   "execution_count": 137,
   "metadata": {},
   "outputs": [
    {
     "data": {
      "image/png": "[encoded data removed]",
      "text/plain": [
       "<Figure size 432x288 with 2 Axes>"
      ]
     },
     "metadata": {
      "needs_background": "light"
     },
     "output_type": "display_data"
    },
    {
     "name": "stdout",
     "output_type": "stream",
     "text": [
      "              precision    recall  f1-score   support\n",
      "\n",
      "          no       0.99      0.99      0.99     36490\n",
      "         yes       0.98      0.98      0.98     18770\n",
      "\n",
      "    accuracy                           0.99     55260\n",
      "   macro avg       0.98      0.98      0.98     55260\n",
      "weighted avg       0.99      0.99      0.99     55260\n",
      "\n",
      "\n"
     ]
    }
   ],
   "source": [
    "h.plot_classifier_scores(xgb_loans_1, X_val, y_val, y_hat_val_xgb, labels)"
   ]
  },
  {
   "cell_type": "markdown",
   "metadata": {},
   "source": [
    "Actually XGBClassifier is doing very well, we got almost perfect recall and precision of both. Let's see miss classifications:"
   ]
  },
  {
   "cell_type": "code",
   "execution_count": 138,
   "metadata": {},
   "outputs": [
    {
     "data": {
      "text/plain": [
       "(406, 13)"
      ]
     },
     "execution_count": 138,
     "metadata": {},
     "output_type": "execute_result"
    }
   ],
   "source": [
    "missed_1_xgb = X_val[(y_val == 1) & (y_hat_val_xgb == 0)]\n",
    "missed_1_xgb.shape"
   ]
  },
  {
   "cell_type": "code",
   "execution_count": 139,
   "metadata": {},
   "outputs": [
    {
     "data": {
      "text/html": [
       "<div>\n",
       "<style scoped>\n",
       "    .dataframe tbody tr th:only-of-type {\n",
       "        vertical-align: middle;\n",
       "    }\n",
       "\n",
       "    .dataframe tbody tr th {\n",
       "        vertical-align: top;\n",
       "    }\n",
       "\n",
       "    .dataframe thead th {\n",
       "        text-align: right;\n",
       "    }\n",
       "</style>\n",
       "<table border=\"1\" class=\"dataframe\">\n",
       "  <thead>\n",
       "    <tr style=\"text-align: right;\">\n",
       "      <th></th>\n",
       "      <th>loan_amnt</th>\n",
       "      <th>purpose</th>\n",
       "      <th>fico_score</th>\n",
       "      <th>dti</th>\n",
       "      <th>addr_state</th>\n",
       "      <th>emp_length</th>\n",
       "      <th>year</th>\n",
       "      <th>month</th>\n",
       "      <th>cos_month</th>\n",
       "      <th>sin_month</th>\n",
       "      <th>log_loan_amnt</th>\n",
       "      <th>log_fico_score</th>\n",
       "      <th>log_dti</th>\n",
       "    </tr>\n",
       "  </thead>\n",
       "  <tbody>\n",
       "    <tr>\n",
       "      <th>647260</th>\n",
       "      <td>20000.00</td>\n",
       "      <td>debt_consolidation</td>\n",
       "      <td>727.00</td>\n",
       "      <td>5.96</td>\n",
       "      <td>IL</td>\n",
       "      <td>0</td>\n",
       "      <td>2018</td>\n",
       "      <td>1</td>\n",
       "      <td>0.87</td>\n",
       "      <td>0.50</td>\n",
       "      <td>9.90</td>\n",
       "      <td>6.59</td>\n",
       "      <td>1.79</td>\n",
       "    </tr>\n",
       "    <tr>\n",
       "      <th>1073116</th>\n",
       "      <td>6000.00</td>\n",
       "      <td>debt_consolidation</td>\n",
       "      <td>672.00</td>\n",
       "      <td>24.03</td>\n",
       "      <td>WI</td>\n",
       "      <td>0</td>\n",
       "      <td>2018</td>\n",
       "      <td>10</td>\n",
       "      <td>0.50</td>\n",
       "      <td>-0.87</td>\n",
       "      <td>8.70</td>\n",
       "      <td>6.51</td>\n",
       "      <td>3.18</td>\n",
       "    </tr>\n",
       "    <tr>\n",
       "      <th>66306</th>\n",
       "      <td>15000.00</td>\n",
       "      <td>other</td>\n",
       "      <td>772.00</td>\n",
       "      <td>3.97</td>\n",
       "      <td>CA</td>\n",
       "      <td>0</td>\n",
       "      <td>2018</td>\n",
       "      <td>12</td>\n",
       "      <td>1.00</td>\n",
       "      <td>-0.00</td>\n",
       "      <td>9.62</td>\n",
       "      <td>6.65</td>\n",
       "      <td>1.38</td>\n",
       "    </tr>\n",
       "    <tr>\n",
       "      <th>622710</th>\n",
       "      <td>8000.00</td>\n",
       "      <td>debt_consolidation</td>\n",
       "      <td>697.00</td>\n",
       "      <td>37.97</td>\n",
       "      <td>CA</td>\n",
       "      <td>0</td>\n",
       "      <td>2018</td>\n",
       "      <td>10</td>\n",
       "      <td>0.50</td>\n",
       "      <td>-0.87</td>\n",
       "      <td>8.99</td>\n",
       "      <td>6.55</td>\n",
       "      <td>3.64</td>\n",
       "    </tr>\n",
       "    <tr>\n",
       "      <th>929045</th>\n",
       "      <td>10000.00</td>\n",
       "      <td>small_business</td>\n",
       "      <td>742.00</td>\n",
       "      <td>31.33</td>\n",
       "      <td>GA</td>\n",
       "      <td>0</td>\n",
       "      <td>2018</td>\n",
       "      <td>10</td>\n",
       "      <td>0.50</td>\n",
       "      <td>-0.87</td>\n",
       "      <td>9.21</td>\n",
       "      <td>6.61</td>\n",
       "      <td>3.44</td>\n",
       "    </tr>\n",
       "  </tbody>\n",
       "</table>\n",
       "</div>"
      ],
      "text/plain": [
       "         loan_amnt             purpose  fico_score   dti addr_state  \\\n",
       "647260    20000.00  debt_consolidation      727.00  5.96         IL   \n",
       "1073116    6000.00  debt_consolidation      672.00 24.03         WI   \n",
       "66306     15000.00               other      772.00  3.97         CA   \n",
       "622710     8000.00  debt_consolidation      697.00 37.97         CA   \n",
       "929045    10000.00      small_business      742.00 31.33         GA   \n",
       "\n",
       "         emp_length  year  month  cos_month  sin_month  log_loan_amnt  \\\n",
       "647260            0  2018      1       0.87       0.50           9.90   \n",
       "1073116           0  2018     10       0.50      -0.87           8.70   \n",
       "66306             0  2018     12       1.00      -0.00           9.62   \n",
       "622710            0  2018     10       0.50      -0.87           8.99   \n",
       "929045            0  2018     10       0.50      -0.87           9.21   \n",
       "\n",
       "         log_fico_score  log_dti  \n",
       "647260             6.59     1.79  \n",
       "1073116            6.51     3.18  \n",
       "66306              6.65     1.38  \n",
       "622710             6.55     3.64  \n",
       "929045             6.61     3.44  "
      ]
     },
     "execution_count": 139,
     "metadata": {},
     "output_type": "execute_result"
    }
   ],
   "source": [
    "missed_1_xgb[:5]"
   ]
  },
  {
   "cell_type": "code",
   "execution_count": 140,
   "metadata": {},
   "outputs": [
    {
     "data": {
      "text/plain": [
       "(401, 13)"
      ]
     },
     "execution_count": 140,
     "metadata": {},
     "output_type": "execute_result"
    }
   ],
   "source": [
    "missed_0_xgb = X_val[(y_val == 0) & (y_hat_val_xgb == 1)]\n",
    "missed_0_xgb.shape"
   ]
  },
  {
   "cell_type": "code",
   "execution_count": 141,
   "metadata": {},
   "outputs": [
    {
     "data": {
      "text/html": [
       "<div>\n",
       "<style scoped>\n",
       "    .dataframe tbody tr th:only-of-type {\n",
       "        vertical-align: middle;\n",
       "    }\n",
       "\n",
       "    .dataframe tbody tr th {\n",
       "        vertical-align: top;\n",
       "    }\n",
       "\n",
       "    .dataframe thead th {\n",
       "        text-align: right;\n",
       "    }\n",
       "</style>\n",
       "<table border=\"1\" class=\"dataframe\">\n",
       "  <thead>\n",
       "    <tr style=\"text-align: right;\">\n",
       "      <th></th>\n",
       "      <th>loan_amnt</th>\n",
       "      <th>purpose</th>\n",
       "      <th>fico_score</th>\n",
       "      <th>dti</th>\n",
       "      <th>addr_state</th>\n",
       "      <th>emp_length</th>\n",
       "      <th>year</th>\n",
       "      <th>month</th>\n",
       "      <th>cos_month</th>\n",
       "      <th>sin_month</th>\n",
       "      <th>log_loan_amnt</th>\n",
       "      <th>log_fico_score</th>\n",
       "      <th>log_dti</th>\n",
       "    </tr>\n",
       "  </thead>\n",
       "  <tbody>\n",
       "    <tr>\n",
       "      <th>570007</th>\n",
       "      <td>30000.00</td>\n",
       "      <td>debt_consolidation</td>\n",
       "      <td>722.00</td>\n",
       "      <td>4.94</td>\n",
       "      <td>KY</td>\n",
       "      <td>6</td>\n",
       "      <td>2018</td>\n",
       "      <td>1</td>\n",
       "      <td>0.87</td>\n",
       "      <td>0.50</td>\n",
       "      <td>10.31</td>\n",
       "      <td>6.58</td>\n",
       "      <td>1.60</td>\n",
       "    </tr>\n",
       "    <tr>\n",
       "      <th>1041618</th>\n",
       "      <td>20000.00</td>\n",
       "      <td>major_purchase</td>\n",
       "      <td>707.00</td>\n",
       "      <td>46.66</td>\n",
       "      <td>KS</td>\n",
       "      <td>10</td>\n",
       "      <td>2018</td>\n",
       "      <td>1</td>\n",
       "      <td>0.87</td>\n",
       "      <td>0.50</td>\n",
       "      <td>9.90</td>\n",
       "      <td>6.56</td>\n",
       "      <td>3.84</td>\n",
       "    </tr>\n",
       "    <tr>\n",
       "      <th>557262</th>\n",
       "      <td>20000.00</td>\n",
       "      <td>debt_consolidation</td>\n",
       "      <td>697.00</td>\n",
       "      <td>21.82</td>\n",
       "      <td>OK</td>\n",
       "      <td>0</td>\n",
       "      <td>2018</td>\n",
       "      <td>10</td>\n",
       "      <td>0.50</td>\n",
       "      <td>-0.87</td>\n",
       "      <td>9.90</td>\n",
       "      <td>6.55</td>\n",
       "      <td>3.08</td>\n",
       "    </tr>\n",
       "    <tr>\n",
       "      <th>345421</th>\n",
       "      <td>27000.00</td>\n",
       "      <td>moving</td>\n",
       "      <td>717.00</td>\n",
       "      <td>26.59</td>\n",
       "      <td>AL</td>\n",
       "      <td>0</td>\n",
       "      <td>2018</td>\n",
       "      <td>6</td>\n",
       "      <td>-1.00</td>\n",
       "      <td>0.00</td>\n",
       "      <td>10.20</td>\n",
       "      <td>6.58</td>\n",
       "      <td>3.28</td>\n",
       "    </tr>\n",
       "    <tr>\n",
       "      <th>84967</th>\n",
       "      <td>22000.00</td>\n",
       "      <td>debt_consolidation</td>\n",
       "      <td>662.00</td>\n",
       "      <td>25.72</td>\n",
       "      <td>MD</td>\n",
       "      <td>0</td>\n",
       "      <td>2018</td>\n",
       "      <td>1</td>\n",
       "      <td>0.87</td>\n",
       "      <td>0.50</td>\n",
       "      <td>10.00</td>\n",
       "      <td>6.50</td>\n",
       "      <td>3.25</td>\n",
       "    </tr>\n",
       "  </tbody>\n",
       "</table>\n",
       "</div>"
      ],
      "text/plain": [
       "         loan_amnt             purpose  fico_score   dti addr_state  \\\n",
       "570007    30000.00  debt_consolidation      722.00  4.94         KY   \n",
       "1041618   20000.00      major_purchase      707.00 46.66         KS   \n",
       "557262    20000.00  debt_consolidation      697.00 21.82         OK   \n",
       "345421    27000.00              moving      717.00 26.59         AL   \n",
       "84967     22000.00  debt_consolidation      662.00 25.72         MD   \n",
       "\n",
       "         emp_length  year  month  cos_month  sin_month  log_loan_amnt  \\\n",
       "570007            6  2018      1       0.87       0.50          10.31   \n",
       "1041618          10  2018      1       0.87       0.50           9.90   \n",
       "557262            0  2018     10       0.50      -0.87           9.90   \n",
       "345421            0  2018      6      -1.00       0.00          10.20   \n",
       "84967             0  2018      1       0.87       0.50          10.00   \n",
       "\n",
       "         log_fico_score  log_dti  \n",
       "570007             6.58     1.60  \n",
       "1041618            6.56     3.84  \n",
       "557262             6.55     3.08  \n",
       "345421             6.58     3.28  \n",
       "84967              6.50     3.25  "
      ]
     },
     "execution_count": 141,
     "metadata": {},
     "output_type": "execute_result"
    }
   ],
   "source": [
    "missed_0_xgb[:5]"
   ]
  },
  {
   "cell_type": "markdown",
   "metadata": {},
   "source": [
    "Seems that module miss classified \"1\" because of emp_length, that was < 1 year and dti, that was quite high too. And \"0\" were miss classified because of quite high fico score."
   ]
  },
  {
   "cell_type": "markdown",
   "metadata": {},
   "source": [
    "* Let's see which features were mostly important."
   ]
  },
  {
   "cell_type": "code",
   "execution_count": 143,
   "metadata": {},
   "outputs": [],
   "source": [
    "feature_names = h.feature_names(xgb_loans_1, numeric_features, binary_features, one_hot_features)"
   ]
  },
  {
   "cell_type": "code",
   "execution_count": 35,
   "metadata": {},
   "outputs": [
    {
     "data": {
      "text/plain": [
       "Text(0.5, 1.0, 'Feature importance in XGBClassifier by weight')"
      ]
     },
     "execution_count": 35,
     "metadata": {},
     "output_type": "execute_result"
    },
    {
     "data": {
      "image/png": "[encoded data removed]",
      "text/plain": [
       "<Figure size 360x720 with 1 Axes>"
      ]
     },
     "metadata": {
      "needs_background": "light"
     },
     "output_type": "display_data"
    }
   ],
   "source": [
    "values = xgb_loans_1.named_steps[\"classifier\"].feature_importances_\n",
    "plt.figure(figsize=(5, 10))\n",
    "plt.barh(feature_names, values)\n",
    "plt.title(\"Feature importance in XGBClassifier by weight\")"
   ]
  },
  {
   "cell_type": "markdown",
   "metadata": {},
   "source": [
    "So seems that most important features by weight were: empl_length (<1 year, 5+ year), purpose - small business, house, home_improvement, debt consolidation, credit card, car, year, dti, fico score and loan amnt. By one-hot encoding a categorical variable, we are inducing sparsity into the dataset which is undesirable.\n",
    "From the splitting algorithm’s point of view, all the dummy variables are independent. If the tree decides to make a split on one of the dummy variables, the gain in purity per split is very marginal. As a result, the tree is very unlikely to select one of the dummy variables closer to the root."
   ]
  },
  {
   "cell_type": "markdown",
   "metadata": {},
   "source": [
    "## 2.3.2. XGB classifier, without scaling, sin and cos of months and with Ordinal encoding only."
   ]
  },
  {
   "cell_type": "code",
   "execution_count": 51,
   "metadata": {},
   "outputs": [],
   "source": [
    "# Let's drop some columns from training, validation data.\n",
    "X_train_under_less = X_train_under.drop(columns=[\"cos_month\",\"sin_month\",\t\"log_loan_amnt\", \"log_fico_score\",\t\"log_dti\"])\n",
    "X_val_less = X_val.drop(columns=[\"cos_month\", \"sin_month\",\t\"log_loan_amnt\", \"log_fico_score\",\t\"log_dti\"])\n",
    "X_test_less = X_test.drop(columns=[\"cos_month\", \"sin_month\",\t\"log_loan_amnt\", \"log_fico_score\",\t\"log_dti\"])\n"
   ]
  },
  {
   "cell_type": "code",
   "execution_count": 52,
   "metadata": {},
   "outputs": [],
   "source": [
    "ordinal_features = [\"purpose\", \"addr_state\"]"
   ]
  },
  {
   "cell_type": "code",
   "execution_count": 53,
   "metadata": {},
   "outputs": [],
   "source": [
    "ordinal_transformer = Pipeline(\n",
    "    steps=[(\"ordinal_encoder\", OrdinalEncoder(handle_unknown=\"use_encoded_value\", unknown_value=-1))]\n",
    ")\n",
    "\n",
    "preprocessor2 = ColumnTransformer(\n",
    "    transformers=[\n",
    "        (\"ordinal\", ordinal_transformer, ordinal_features),\n",
    "    ],\n",
    "    remainder=\"passthrough\",\n",
    ")"
   ]
  },
  {
   "cell_type": "code",
   "execution_count": null,
   "metadata": {},
   "outputs": [],
   "source": [
    "xgb_loans_2 = Pipeline(\n",
    "    steps=[\n",
    "        (\"preprocessor2\", preprocessor2),\n",
    "        (\"classifier\", XGBClassifier(random_state=123, use_label_encoder=False)),\n",
    "    ]\n",
    ").fit(X_train_under_less, y_train_under)\n",
    "\n",
    "y_hat_train_xgb2 = xgb_loans_2.predict(X_train_under_less)\n",
    "y_hat_val_xgb2 = xgb_loans_2.predict(X_val_less)"
   ]
  },
  {
   "cell_type": "code",
   "execution_count": 149,
   "metadata": {},
   "outputs": [
    {
     "data": {
      "image/png": "[encoded data removed]",
      "text/plain": [
       "<Figure size 432x288 with 2 Axes>"
      ]
     },
     "metadata": {
      "needs_background": "light"
     },
     "output_type": "display_data"
    },
    {
     "name": "stdout",
     "output_type": "stream",
     "text": [
      "              precision    recall  f1-score   support\n",
      "\n",
      "          no       0.99      0.99      0.99     36490\n",
      "         yes       0.98      0.98      0.98     18770\n",
      "\n",
      "    accuracy                           0.98     55260\n",
      "   macro avg       0.98      0.98      0.98     55260\n",
      "weighted avg       0.98      0.98      0.98     55260\n",
      "\n",
      "\n"
     ]
    }
   ],
   "source": [
    "h.plot_classifier_scores(xgb_loans_2, X_val_less, y_val, y_hat_val_xgb2, labels)"
   ]
  },
  {
   "cell_type": "markdown",
   "metadata": {},
   "source": [
    "* Let's see what features this time were most important."
   ]
  },
  {
   "cell_type": "code",
   "execution_count": null,
   "metadata": {},
   "outputs": [],
   "source": [
    "X_train_under_less.columns.to_list()"
   ]
  },
  {
   "cell_type": "code",
   "execution_count": 45,
   "metadata": {},
   "outputs": [
    {
     "data": {
      "text/plain": [
       "Text(0.5, 1.0, 'Feature importance in XGBClassifier by weight')"
      ]
     },
     "execution_count": 45,
     "metadata": {},
     "output_type": "execute_result"
    },
    {
     "data": {
      "image/png": "[encoded data removed]",
      "text/plain": [
       "<Figure size 432x288 with 1 Axes>"
      ]
     },
     "metadata": {
      "needs_background": "light"
     },
     "output_type": "display_data"
    }
   ],
   "source": [
    "xgb_loans_2.named_steps[\"classifier\"].feature_importances_\n",
    "features = X_train_under_less.columns.to_list()\n",
    "values = xgb_loans_2.named_steps[\"classifier\"].feature_importances_\n",
    "plt.barh(features, values)\n",
    "plt.title(\"Feature importance in XGBClassifier by weight\")"
   ]
  },
  {
   "cell_type": "markdown",
   "metadata": {},
   "source": [
    "Actually now we see a much more clear view, that with the same main features, no one_hot_encoding, we got that the most important features were employment length, the debt to income ratio, loan amount, and whats the most surprising - purpose wasn't at all important. That shows that dummy variables are actually affecting tree based models and changes the important of features (gives more importance to those synthetically made (dummy) larger number of features)."
   ]
  },
  {
   "cell_type": "markdown",
   "metadata": {},
   "source": [
    "* Let's try to tune this model."
   ]
  },
  {
   "cell_type": "markdown",
   "metadata": {},
   "source": [
    "## 2.3.3. XGB classifier hyperparameter tuning, probability threshold search, SHAP values"
   ]
  },
  {
   "cell_type": "code",
   "execution_count": null,
   "metadata": {},
   "outputs": [],
   "source": [
    "study = optuna.create_study(direction=\"maximize\", study_name=\"XGBClassifier\")\n",
    "func = lambda trial: h.xgb_objective(trial, X_train_under_less, pd.DataFrame(y_train_under), preprocessor2)\n",
    "study.optimize(func, n_trials=10)"
   ]
  },
  {
   "cell_type": "code",
   "execution_count": 48,
   "metadata": {},
   "outputs": [],
   "source": [
    "trial = study.best_trial\n",
    "xgb_params = trial.params"
   ]
  },
  {
   "cell_type": "code",
   "execution_count": 49,
   "metadata": {},
   "outputs": [
    {
     "name": "stdout",
     "output_type": "stream",
     "text": [
      "\t\tn_estimators: 529\n",
      "\t\tlearning_rate: 0.27472048792575454\n",
      "\t\tnum_leaves: 2900\n",
      "\t\tmax_depth: 12\n",
      "\t\treg_alpha: 0.06902792041884684\n",
      "\t\treg_lambda: 56.71862221951366\n",
      "\t\tgama: 7.042934590103538\n",
      "\t\tmin_child_weight: 8\n",
      "\t\tscale_pos_weight: 12\n",
      "\tBest value (f1): 0.98281\n"
     ]
    }
   ],
   "source": [
    "for key, value in xgb_params.items():\n",
    "    print(f'\\t\\t{key}: {value}')\n",
    "\n",
    "print(f'\\tBest value (ROC AUC): {study.best_value:.5f}')\n"
   ]
  },
  {
   "cell_type": "code",
   "execution_count": null,
   "metadata": {},
   "outputs": [],
   "source": [
    "cv = StratifiedKFold(n_splits=5, shuffle=True, random_state=123)\n",
    "xgb_loans_tuned_3 = Pipeline(\n",
    "    steps=[\n",
    "        (\"preprocessor\", preprocessor2),\n",
    "        (\"classifier\", XGBClassifier(n_estimators=529,\n",
    "\t\tlearning_rate=0.27472048792575454,\n",
    "\t\tnum_leaves=2900,\n",
    "\t\tmax_depth=12,\n",
    "\t\treg_alpha=0.06902792041884684,\n",
    "\t\treg_lambda=56.71862221951366,\n",
    "\t\tgama=7.042934590103538,\n",
    "\t\tmin_child_weight=8,\n",
    "\t\tscale_pos_weight=12, use_label_encoder=False, random_state=123)),\n",
    "    ]\n",
    ")\n",
    "\n",
    "scores = cross_val_score(\n",
    "    xgb_loans_tuned_3, X_train_under_less, y_train_under, cv=cv, scoring=\"f1_macro\"\n",
    ")"
   ]
  },
  {
   "cell_type": "code",
   "execution_count": 68,
   "metadata": {},
   "outputs": [
    {
     "name": "stdout",
     "output_type": "stream",
     "text": [
      "XGBoost classifier F1 score on train data: 0.9829166681470113\n"
     ]
    }
   ],
   "source": [
    "print(f\"XGBoost classifier F1 score on train data: {scores.mean()}\")"
   ]
  },
  {
   "cell_type": "code",
   "execution_count": null,
   "metadata": {},
   "outputs": [],
   "source": [
    "xgb_loans_tuned_3.fit(X_train_under_less, y_train_under)"
   ]
  },
  {
   "cell_type": "code",
   "execution_count": 70,
   "metadata": {},
   "outputs": [],
   "source": [
    "y_hat_val_xgb_tuned_3 = xgb_loans_tuned_3.predict(X_val_less)\n",
    "y_hat_test_xgb_tuned_3 = xgb_loans_tuned_3.predict(X_test_less)"
   ]
  },
  {
   "cell_type": "code",
   "execution_count": 73,
   "metadata": {},
   "outputs": [
    {
     "data": {
      "image/png": "[encoded data removed]",
      "text/plain": [
       "<Figure size 432x288 with 2 Axes>"
      ]
     },
     "metadata": {
      "needs_background": "light"
     },
     "output_type": "display_data"
    },
    {
     "name": "stdout",
     "output_type": "stream",
     "text": [
      "              precision    recall  f1-score   support\n",
      "\n",
      "          no       1.00      0.98      0.99     36490\n",
      "         yes       0.96      0.99      0.98     18770\n",
      "\n",
      "    accuracy                           0.98     55260\n",
      "   macro avg       0.98      0.98      0.98     55260\n",
      "weighted avg       0.98      0.98      0.98     55260\n",
      "\n",
      "\n"
     ]
    }
   ],
   "source": [
    "h.plot_classifier_scores(xgb_loans_tuned_3, X_val_less, y_val, y_hat_val_xgb_tuned_3, labels)\n"
   ]
  },
  {
   "cell_type": "markdown",
   "metadata": {},
   "source": [
    "We have a little higher False positive rate after tuning (from 0.013 to 0.021, that's why the precision of \"yes\" dropped from 98 to 96), on the other hand we have lower False negative rate from 0.02 to 0.0087. But the number are very close."
   ]
  },
  {
   "cell_type": "markdown",
   "metadata": {},
   "source": [
    "* Finding  the best threshold using PR curve and trying the threshold tuning:"
   ]
  },
  {
   "cell_type": "code",
   "execution_count": 162,
   "metadata": {},
   "outputs": [
    {
     "name": "stdout",
     "output_type": "stream",
     "text": [
      "Best Threshold: 0.7508000135421753 with F-Score: 0.977\n",
      "Recall: 0.9842, Precision: 0.97\n"
     ]
    },
    {
     "data": {
      "image/png": "[encoded data removed]",
      "text/plain": [
       "<Figure size 800x480 with 1 Axes>"
      ]
     },
     "metadata": {
      "needs_background": "light"
     },
     "output_type": "display_data"
    },
    {
     "data": {
      "text/plain": [
       "<ggplot: (163542411945)>"
      ]
     },
     "execution_count": 162,
     "metadata": {},
     "output_type": "execute_result"
    }
   ],
   "source": [
    "h.precision_recall_curve_opt_threshold(xgb_loans_tuned_3, X_val_less)"
   ]
  },
  {
   "cell_type": "markdown",
   "metadata": {},
   "source": [
    "* Threshold tuning."
   ]
  },
  {
   "cell_type": "code",
   "execution_count": 169,
   "metadata": {},
   "outputs": [
    {
     "name": "stdout",
     "output_type": "stream",
     "text": [
      "Length of sequence: 10000\n",
      "Best Threshold: 0.7499 with F-Score: 0.977\n"
     ]
    },
    {
     "data": {
      "image/png": "[encoded data removed]",
      "text/plain": [
       "<Figure size 800x480 with 1 Axes>"
      ]
     },
     "metadata": {
      "needs_background": "light"
     },
     "output_type": "display_data"
    },
    {
     "data": {
      "text/plain": [
       "<ggplot: (163434557769)>"
      ]
     },
     "execution_count": 169,
     "metadata": {},
     "output_type": "execute_result"
    }
   ],
   "source": [
    "h.prob_trheshold_tuning(xgb_loans_tuned_3, X_val_less, y_val)"
   ]
  },
  {
   "cell_type": "markdown",
   "metadata": {},
   "source": [
    "So, according to these metrics, the best probability threshold would be not 0.5 (like default), but 0.7499, in that way  we would get better F1 score and more values actually would be defined as \"0\", not \"1\", we would loose some Type 1 errors."
   ]
  },
  {
   "cell_type": "markdown",
   "metadata": {},
   "source": [
    "* Now let's see if we set the probability threshold as suggested to 0.75, what would we get in the test set."
   ]
  },
  {
   "cell_type": "code",
   "execution_count": 145,
   "metadata": {},
   "outputs": [
    {
     "data": {
      "image/png": "[encoded data removed]",
      "text/plain": [
       "<Figure size 432x288 with 2 Axes>"
      ]
     },
     "metadata": {
      "needs_background": "light"
     },
     "output_type": "display_data"
    },
    {
     "name": "stdout",
     "output_type": "stream",
     "text": [
      "              precision    recall  f1-score   support\n",
      "\n",
      "          no       0.99      0.98      0.99     36664\n",
      "         yes       0.97      0.98      0.98     18596\n",
      "\n",
      "    accuracy                           0.98     55260\n",
      "   macro avg       0.98      0.98      0.98     55260\n",
      "weighted avg       0.98      0.98      0.98     55260\n",
      "\n",
      "\n"
     ]
    }
   ],
   "source": [
    "y_hat_test_xgb_tuned_3_threshold = (xgb_loans_tuned_3.predict_proba(X_test_less)[:,1] >= 0.75).astype(bool)\n",
    "h.plot_classifier_scores(xgb_loans_tuned_3, X_test_less, y_test, y_hat_test_xgb_tuned_3_threshold, labels)"
   ]
  },
  {
   "cell_type": "code",
   "execution_count": 79,
   "metadata": {},
   "outputs": [
    {
     "data": {
      "text/plain": [
       "(328, 8)"
      ]
     },
     "execution_count": 79,
     "metadata": {},
     "output_type": "execute_result"
    }
   ],
   "source": [
    "missed_xgb3 = X_test_less[(y_test == 1) & (y_hat_test_xgb_tuned_3_threshold == 0)]\n",
    "missed_xgb3.shape"
   ]
  },
  {
   "cell_type": "code",
   "execution_count": 81,
   "metadata": {},
   "outputs": [
    {
     "data": {
      "text/html": [
       "<div>\n",
       "<style scoped>\n",
       "    .dataframe tbody tr th:only-of-type {\n",
       "        vertical-align: middle;\n",
       "    }\n",
       "\n",
       "    .dataframe tbody tr th {\n",
       "        vertical-align: top;\n",
       "    }\n",
       "\n",
       "    .dataframe thead th {\n",
       "        text-align: right;\n",
       "    }\n",
       "</style>\n",
       "<table border=\"1\" class=\"dataframe\">\n",
       "  <thead>\n",
       "    <tr style=\"text-align: right;\">\n",
       "      <th></th>\n",
       "      <th>loan_amnt</th>\n",
       "      <th>purpose</th>\n",
       "      <th>fico_score</th>\n",
       "      <th>dti</th>\n",
       "      <th>addr_state</th>\n",
       "      <th>emp_length</th>\n",
       "      <th>year</th>\n",
       "      <th>month</th>\n",
       "    </tr>\n",
       "  </thead>\n",
       "  <tbody>\n",
       "    <tr>\n",
       "      <th>1022208</th>\n",
       "      <td>20000.00</td>\n",
       "      <td>other</td>\n",
       "      <td>677.00</td>\n",
       "      <td>3.47</td>\n",
       "      <td>PA</td>\n",
       "      <td>0</td>\n",
       "      <td>2018</td>\n",
       "      <td>3</td>\n",
       "    </tr>\n",
       "    <tr>\n",
       "      <th>40065</th>\n",
       "      <td>40000.00</td>\n",
       "      <td>debt_consolidation</td>\n",
       "      <td>682.00</td>\n",
       "      <td>34.80</td>\n",
       "      <td>CA</td>\n",
       "      <td>0</td>\n",
       "      <td>2018</td>\n",
       "      <td>2</td>\n",
       "    </tr>\n",
       "    <tr>\n",
       "      <th>860430</th>\n",
       "      <td>20000.00</td>\n",
       "      <td>car</td>\n",
       "      <td>697.00</td>\n",
       "      <td>19.11</td>\n",
       "      <td>NY</td>\n",
       "      <td>2</td>\n",
       "      <td>2018</td>\n",
       "      <td>10</td>\n",
       "    </tr>\n",
       "    <tr>\n",
       "      <th>723020</th>\n",
       "      <td>30000.00</td>\n",
       "      <td>debt_consolidation</td>\n",
       "      <td>682.00</td>\n",
       "      <td>28.80</td>\n",
       "      <td>TX</td>\n",
       "      <td>0</td>\n",
       "      <td>2018</td>\n",
       "      <td>9</td>\n",
       "    </tr>\n",
       "    <tr>\n",
       "      <th>455614</th>\n",
       "      <td>10000.00</td>\n",
       "      <td>debt_consolidation</td>\n",
       "      <td>662.00</td>\n",
       "      <td>16.71</td>\n",
       "      <td>MD</td>\n",
       "      <td>0</td>\n",
       "      <td>2018</td>\n",
       "      <td>8</td>\n",
       "    </tr>\n",
       "  </tbody>\n",
       "</table>\n",
       "</div>"
      ],
      "text/plain": [
       "         loan_amnt             purpose  fico_score   dti addr_state  \\\n",
       "1022208   20000.00               other      677.00  3.47         PA   \n",
       "40065     40000.00  debt_consolidation      682.00 34.80         CA   \n",
       "860430    20000.00                 car      697.00 19.11         NY   \n",
       "723020    30000.00  debt_consolidation      682.00 28.80         TX   \n",
       "455614    10000.00  debt_consolidation      662.00 16.71         MD   \n",
       "\n",
       "         emp_length  year  month  \n",
       "1022208           0  2018      3  \n",
       "40065             0  2018      2  \n",
       "860430            2  2018     10  \n",
       "723020            0  2018      9  \n",
       "455614            0  2018      8  "
      ]
     },
     "execution_count": 81,
     "metadata": {},
     "output_type": "execute_result"
    }
   ],
   "source": [
    "missed_xgb3[:5]"
   ]
  },
  {
   "cell_type": "code",
   "execution_count": 83,
   "metadata": {},
   "outputs": [
    {
     "data": {
      "text/plain": [
       "(552, 8)"
      ]
     },
     "execution_count": 83,
     "metadata": {},
     "output_type": "execute_result"
    }
   ],
   "source": [
    "missed_xgb3_0 = X_test_less[(y_test == 0) & (y_hat_test_xgb_tuned_3_threshold == 1)]\n",
    "missed_xgb3_0.shape"
   ]
  },
  {
   "cell_type": "markdown",
   "metadata": {},
   "source": [
    "Seems that this threshold tuning helped to reduce False positives, but a little bit enlarged false negatives."
   ]
  },
  {
   "cell_type": "markdown",
   "metadata": {},
   "source": [
    "* SHAP Values:"
   ]
  },
  {
   "cell_type": "code",
   "execution_count": 148,
   "metadata": {},
   "outputs": [
    {
     "name": "stderr",
     "output_type": "stream",
     "text": [
      "c:\\Users\\ikirs\\anaconda3\\lib\\site-packages\\xgboost\\core.py:105: UserWarning: ntree_limit is deprecated, use `iteration_range` or model slicing instead.\n"
     ]
    }
   ],
   "source": [
    "xgb_explainer = shap.TreeExplainer(xgb_loans_tuned_3[\"classifier\"])\n",
    "xgb_shap_values = xgb_explainer(preprocessor2.transform(X_val_less))"
   ]
  },
  {
   "cell_type": "code",
   "execution_count": 149,
   "metadata": {},
   "outputs": [],
   "source": [
    "features_less = X_train_under_less.columns.tolist()"
   ]
  },
  {
   "cell_type": "code",
   "execution_count": 151,
   "metadata": {},
   "outputs": [
    {
     "data": {
      "image/png": "[encoded data removed]",
      "text/plain": [
       "<Figure size 576x338.4 with 1 Axes>"
      ]
     },
     "metadata": {
      "needs_background": "light"
     },
     "output_type": "display_data"
    }
   ],
   "source": [
    "shap.summary_plot(xgb_shap_values, feature_names=features_less, plot_type=\"bar\")"
   ]
  },
  {
   "cell_type": "code",
   "execution_count": 154,
   "metadata": {},
   "outputs": [
    {
     "data": {
      "image/png": "[encoded data removed]",
      "text/plain": [
       "<Figure size 1008x288 with 2 Axes>"
      ]
     },
     "metadata": {
      "needs_background": "light"
     },
     "output_type": "display_data"
    }
   ],
   "source": [
    "X_val_tr = preprocessor2.transform(X_val_less)\n",
    "shap.summary_plot(\n",
    "    xgb_shap_values,\n",
    "    X_val_tr,\n",
    "    feature_names=features_less,\n",
    "    max_display=10,\n",
    "    show=False,\n",
    ")\n",
    "\n",
    "fig, ax = plt.gcf(), plt.gca()\n",
    "\n",
    "fig.set_size_inches(14, 4)\n",
    "ax.set_title(\"Feature importance\", fontdict={\"size\": 12})\n",
    "ax.tick_params(axis=\"both\", which=\"major\", labelsize=10)\n",
    "ax.tick_params(axis=\"both\", which=\"minor\", labelsize=8)"
   ]
  },
  {
   "cell_type": "markdown",
   "metadata": {},
   "source": [
    "So it can be concluded that in the tuned XGB Classifier the most of the impact to the final decision had values: dti, emp_length, addr_state and fico_score (but very individually, as for some cases the same feature could have increased the final probability towards \"1\" and in other cases decrease, that's because the feature correlates with each other too)."
   ]
  },
  {
   "cell_type": "markdown",
   "metadata": {},
   "source": [
    "## 2.3.4. XGB classifier with less features (according to SHAP values)"
   ]
  },
  {
   "cell_type": "markdown",
   "metadata": {},
   "source": [
    "So I decided to try only with these features from SHAP values: dti, emp_length, loan_amnt, addr_state and fico_score."
   ]
  },
  {
   "cell_type": "code",
   "execution_count": 172,
   "metadata": {},
   "outputs": [],
   "source": [
    "X_train_under_less_shap = X_train_under_less.drop(columns=[\"year\", \"month\", \"purpose\"])\n",
    "X_val_less_shap = X_val_less.drop(columns=[\"year\", \"month\", \"purpose\"])\n",
    "X_test_less_shap = X_test_less.drop(columns=[\"year\", \"month\", \"purpose\"])"
   ]
  },
  {
   "cell_type": "code",
   "execution_count": 174,
   "metadata": {},
   "outputs": [],
   "source": [
    "ordinal_feature = [\"addr_state\"]\n",
    "ordinal_transformer = Pipeline(\n",
    "    steps=[(\"ordinal_encoder\", OrdinalEncoder(handle_unknown=\"use_encoded_value\", unknown_value=-1))]\n",
    ")\n",
    "\n",
    "preprocessor3 = ColumnTransformer(\n",
    "    transformers=[\n",
    "        (\"ordinal\", ordinal_transformer, ordinal_feature),\n",
    "    ],\n",
    "    remainder=\"passthrough\",\n",
    ")"
   ]
  },
  {
   "cell_type": "code",
   "execution_count": null,
   "metadata": {},
   "outputs": [],
   "source": [
    "cv = StratifiedKFold(n_splits=5, shuffle=True, random_state=123)\n",
    "xgb_loans_tuned_4 = Pipeline(\n",
    "    steps=[\n",
    "        (\"preprocessor\", preprocessor3),\n",
    "        (\"classifier\", XGBClassifier(**xgb_params, use_label_encoder=False)),\n",
    "    ]\n",
    ")\n",
    "\n",
    "scores = cross_val_score(\n",
    "    xgb_loans_tuned_4, X_train_under_less_shap, y_train_under, cv=cv, scoring=\"f1_macro\"\n",
    ")"
   ]
  },
  {
   "cell_type": "code",
   "execution_count": 75,
   "metadata": {},
   "outputs": [
    {
     "name": "stdout",
     "output_type": "stream",
     "text": [
      "XGBoost classifier (less features by shap) F1 score on train data: 0.9772996335760851\n"
     ]
    }
   ],
   "source": [
    "print(f\"XGBoost classifier (less features by shap) F1 score on train data: {scores.mean()}\")"
   ]
  },
  {
   "cell_type": "code",
   "execution_count": null,
   "metadata": {},
   "outputs": [],
   "source": [
    "xgb_loans_tuned_4.fit(X_train_under_less_shap, y_train_under)\n",
    "y_hat_test_xgb_tuned_4 = xgb_loans_tuned_4.predict(X_test_less_shap)"
   ]
  },
  {
   "cell_type": "code",
   "execution_count": 166,
   "metadata": {},
   "outputs": [
    {
     "data": {
      "image/png": "[encoded data removed]",
      "text/plain": [
       "<Figure size 432x288 with 2 Axes>"
      ]
     },
     "metadata": {
      "needs_background": "light"
     },
     "output_type": "display_data"
    },
    {
     "name": "stdout",
     "output_type": "stream",
     "text": [
      "              precision    recall  f1-score   support\n",
      "\n",
      "          no       1.00      0.96      0.98     36664\n",
      "         yes       0.93      1.00      0.96     18596\n",
      "\n",
      "    accuracy                           0.98     55260\n",
      "   macro avg       0.97      0.98      0.97     55260\n",
      "weighted avg       0.98      0.98      0.98     55260\n",
      "\n",
      "\n"
     ]
    }
   ],
   "source": [
    "h.plot_classifier_scores(xgb_loans_tuned_4, X_test_less, y_test, y_hat_test_xgb_tuned_4, labels)\n"
   ]
  },
  {
   "cell_type": "markdown",
   "metadata": {},
   "source": [
    "We got the recall of \"1\" 100 % accurate, but reduced the precision to 93 percent. Enlarged the False positives rate."
   ]
  },
  {
   "cell_type": "code",
   "execution_count": 84,
   "metadata": {},
   "outputs": [
    {
     "data": {
      "text/plain": [
       "Text(0.5, 1.0, 'Precision-Recall curve')"
      ]
     },
     "execution_count": 84,
     "metadata": {},
     "output_type": "execute_result"
    },
    {
     "data": {
      "image/png": "[encoded data removed]",
      "text/plain": [
       "<Figure size 432x288 with 1 Axes>"
      ]
     },
     "metadata": {
      "needs_background": "light"
     },
     "output_type": "display_data"
    }
   ],
   "source": [
    "plot_precision_recall_curve(xgb_loans_1, X_test, y_test, ax = plt.gca(),name = \"XGB default hypparam, all feat\")\n",
    "plot_precision_recall_curve(xgb_loans_2, X_test_less, y_test, ax = plt.gca(),name = \"XGB main no engineered features\")\n",
    "plot_precision_recall_curve(xgb_loans_tuned_3, X_test_less, y_test, ax = plt.gca(),name = \"XGB tuned\")\n",
    "plot_precision_recall_curve(xgb_loans_tuned_4, X_test_less_shap, y_test, ax = plt.gca(),name = \"XGB tuned less features by shap\")\n",
    "plt.title('Precision-Recall curve')"
   ]
  },
  {
   "cell_type": "markdown",
   "metadata": {},
   "source": [
    "All in all all XGB models work very similar, but less and more simple features I think is an advantage, so I picked to save tuned XGBClassifier - xgb_loans_tuned_3."
   ]
  },
  {
   "cell_type": "code",
   "execution_count": 74,
   "metadata": {},
   "outputs": [
    {
     "data": {
      "text/plain": [
       "['model_xgb_loans.joblib']"
      ]
     },
     "execution_count": 74,
     "metadata": {},
     "output_type": "execute_result"
    }
   ],
   "source": [
    "# filename = \"model_xgb_loans.joblib\"\n",
    "# dump(xgb_loans_tuned_3, filename)"
   ]
  },
  {
   "cell_type": "markdown",
   "metadata": {},
   "source": [
    "## 2.4. LGBM Classifier\n",
    "\n",
    "## 2.4.1. LGBM classifier with engineered features and default hyperparameters"
   ]
  },
  {
   "cell_type": "code",
   "execution_count": 178,
   "metadata": {},
   "outputs": [],
   "source": [
    "lgbm_loans_1 = Pipeline(\n",
    "    steps=[\n",
    "        (\"preprocessor\", preprocessor),\n",
    "        (\"classifier\", LGBMClassifier()),\n",
    "    ]\n",
    ")\n",
    "\n",
    "scores = cross_val_score(\n",
    "lgbm_loans_1, X_train_under, y_train_under, cv=cv, scoring=\"f1_macro\"\n",
    ")"
   ]
  },
  {
   "cell_type": "code",
   "execution_count": 179,
   "metadata": {},
   "outputs": [
    {
     "name": "stdout",
     "output_type": "stream",
     "text": [
      "LGBM classifier F1 score on train data: 0.9825220791313564\n"
     ]
    }
   ],
   "source": [
    "print(f\"LGBM classifier F1 score on train data: {scores.mean()}\")"
   ]
  },
  {
   "cell_type": "code",
   "execution_count": null,
   "metadata": {},
   "outputs": [],
   "source": [
    "lgbm_loans_1.fit(X_train_under, y_train_under)"
   ]
  },
  {
   "cell_type": "code",
   "execution_count": 181,
   "metadata": {},
   "outputs": [],
   "source": [
    "y_hat_train_lgbm = lgbm_loans_1.predict(X_train_under)\n",
    "y_hat_val_lgbm = lgbm_loans_1.predict(X_val)"
   ]
  },
  {
   "cell_type": "code",
   "execution_count": 182,
   "metadata": {},
   "outputs": [
    {
     "data": {
      "image/png": "[encoded data removed]",
      "text/plain": [
       "<Figure size 432x288 with 2 Axes>"
      ]
     },
     "metadata": {
      "needs_background": "light"
     },
     "output_type": "display_data"
    },
    {
     "name": "stdout",
     "output_type": "stream",
     "text": [
      "              precision    recall  f1-score   support\n",
      "\n",
      "          no       0.99      0.99      0.99     36490\n",
      "         yes       0.97      0.98      0.98     18770\n",
      "\n",
      "    accuracy                           0.98     55260\n",
      "   macro avg       0.98      0.98      0.98     55260\n",
      "weighted avg       0.98      0.98      0.98     55260\n",
      "\n",
      "\n"
     ]
    }
   ],
   "source": [
    "h.plot_classifier_scores(lgbm_loans_1, X_val, y_val, y_hat_val_lgbm, labels)"
   ]
  },
  {
   "cell_type": "code",
   "execution_count": 92,
   "metadata": {},
   "outputs": [
    {
     "data": {
      "text/plain": [
       "Text(0.5, 1.0, 'Precision-Recall curve')"
      ]
     },
     "execution_count": 92,
     "metadata": {},
     "output_type": "execute_result"
    },
    {
     "data": {
      "image/png": "[encoded data removed]",
      "text/plain": [
       "<Figure size 432x288 with 1 Axes>"
      ]
     },
     "metadata": {
      "needs_background": "light"
     },
     "output_type": "display_data"
    }
   ],
   "source": [
    "plot_precision_recall_curve(lgbm_loans_1, X_val, y_val, ax = plt.gca(),name = \"LGBM\")\n",
    "\n",
    "plt.title('Precision-Recall curve')"
   ]
  },
  {
   "cell_type": "markdown",
   "metadata": {},
   "source": [
    "results are very similar to the XGBClassifier."
   ]
  },
  {
   "cell_type": "markdown",
   "metadata": {},
   "source": [
    "## 2.4.2. LGBM classifier with main features and default hyperparameters"
   ]
  },
  {
   "cell_type": "code",
   "execution_count": 183,
   "metadata": {},
   "outputs": [],
   "source": [
    "lgbm_loans_2 = Pipeline(\n",
    "    steps=[\n",
    "        (\"preprocessor\", preprocessor2),\n",
    "        (\"classifier\", LGBMClassifier()),\n",
    "    ]\n",
    ")\n",
    "\n",
    "scores = cross_val_score(\n",
    "lgbm_loans_2, X_train_under_less, y_train_under, cv=cv, scoring=\"f1_macro\"\n",
    ")"
   ]
  },
  {
   "cell_type": "code",
   "execution_count": 184,
   "metadata": {},
   "outputs": [
    {
     "name": "stdout",
     "output_type": "stream",
     "text": [
      "LGBM classifier with main features F1 score on train data: 0.9826889337988935\n"
     ]
    }
   ],
   "source": [
    "print(f\"LGBM classifier with main features F1 score on train data: {scores.mean()}\")"
   ]
  },
  {
   "cell_type": "code",
   "execution_count": null,
   "metadata": {},
   "outputs": [],
   "source": [
    "lgbm_loans_2.fit(X_train_under_less, y_train_under)"
   ]
  },
  {
   "cell_type": "code",
   "execution_count": 186,
   "metadata": {},
   "outputs": [],
   "source": [
    "y_hat_train_lgbm2 = lgbm_loans_2.predict(X_train_under_less)\n",
    "y_hat_val_lgbm2 = lgbm_loans_2.predict(X_val_less)"
   ]
  },
  {
   "cell_type": "code",
   "execution_count": 187,
   "metadata": {},
   "outputs": [
    {
     "data": {
      "image/png": "[encoded data removed]",
      "text/plain": [
       "<Figure size 432x288 with 2 Axes>"
      ]
     },
     "metadata": {
      "needs_background": "light"
     },
     "output_type": "display_data"
    },
    {
     "name": "stdout",
     "output_type": "stream",
     "text": [
      "              precision    recall  f1-score   support\n",
      "\n",
      "          no       0.99      0.99      0.99     36490\n",
      "         yes       0.97      0.98      0.97     18770\n",
      "\n",
      "    accuracy                           0.98     55260\n",
      "   macro avg       0.98      0.98      0.98     55260\n",
      "weighted avg       0.98      0.98      0.98     55260\n",
      "\n",
      "\n"
     ]
    }
   ],
   "source": [
    "h.plot_classifier_scores(lgbm_loans_2, X_val_less, y_val, y_hat_val_lgbm2, labels)"
   ]
  },
  {
   "cell_type": "markdown",
   "metadata": {},
   "source": [
    "Just a little bit worse (the precision of \"yes\" dropped)."
   ]
  },
  {
   "cell_type": "markdown",
   "metadata": {},
   "source": [
    "## 2.4.3. LGBM classifier hyperparameter tuning, SHAP values"
   ]
  },
  {
   "cell_type": "code",
   "execution_count": null,
   "metadata": {},
   "outputs": [],
   "source": [
    "study = optuna.create_study(direction=\"minimize\", study_name=\"LGBMClassifier\")\n",
    "func = lambda trial: h.lgbm_objective(trial, X_train_under_less, y_train_under, preprocessor2)\n",
    "study.optimize(func, n_trials=20)"
   ]
  },
  {
   "cell_type": "code",
   "execution_count": 100,
   "metadata": {},
   "outputs": [],
   "source": [
    "trial = study.best_trial\n",
    "lgbm_params = trial.params"
   ]
  },
  {
   "cell_type": "code",
   "execution_count": 101,
   "metadata": {},
   "outputs": [
    {
     "name": "stdout",
     "output_type": "stream",
     "text": [
      "\t\tn_estimators: 151\n",
      "\t\tlearning_rate: 0.29015572616949065\n",
      "\t\tnum_leaves: 1140\n",
      "\t\tmax_depth: 9\n",
      "\t\tmin_data_in_leaf: 400\n",
      "\t\tlambda_l1: 0\n",
      "\t\tlambda_l2: 100\n",
      "\t\tmin_gain_to_split: 4.52528026847952\n",
      "\tBest value (f1): 0.48388\n"
     ]
    }
   ],
   "source": [
    "for key, value in lgbm_params.items():\n",
    "    print(f'\\t\\t{key}: {value}')\n",
    "\n",
    "print(f'\\tBest value (f1): {study.best_value:.5f}')\n"
   ]
  },
  {
   "cell_type": "code",
   "execution_count": null,
   "metadata": {},
   "outputs": [],
   "source": [
    "lgbm_loans_tuned_3= Pipeline(\n",
    "    steps=[\n",
    "        (\"preprocessor\", preprocessor2),\n",
    "        (\"classifier\", LGBMClassifier(**lgbm_params)),\n",
    "    ]\n",
    ")\n",
    "\n",
    "scores = cross_val_score(\n",
    "    lgbm_loans_tuned_3, X_train_under_less, y_train_under, cv=cv, scoring=\"f1_macro\"\n",
    ")"
   ]
  },
  {
   "cell_type": "code",
   "execution_count": 103,
   "metadata": {},
   "outputs": [
    {
     "name": "stdout",
     "output_type": "stream",
     "text": [
      "LGBM classifier tuned F1 score on train data: 0.9792770267063478\n"
     ]
    }
   ],
   "source": [
    "print(f\"LGBM classifier tuned F1 score on train data: {scores.mean()}\")"
   ]
  },
  {
   "cell_type": "code",
   "execution_count": null,
   "metadata": {},
   "outputs": [],
   "source": [
    "lgbm_loans_tuned_3.fit(X_train_under_less, y_train_under)"
   ]
  },
  {
   "cell_type": "code",
   "execution_count": 105,
   "metadata": {},
   "outputs": [],
   "source": [
    "y_hat_val_lgbm3 = lgbm_loans_tuned_3.predict(X_val_less)"
   ]
  },
  {
   "cell_type": "code",
   "execution_count": 106,
   "metadata": {},
   "outputs": [
    {
     "data": {
      "image/png": "[encoded data removed]",
      "text/plain": [
       "<Figure size 432x288 with 2 Axes>"
      ]
     },
     "metadata": {
      "needs_background": "light"
     },
     "output_type": "display_data"
    },
    {
     "name": "stdout",
     "output_type": "stream",
     "text": [
      "              precision    recall  f1-score   support\n",
      "\n",
      "          no       0.99      0.99      0.99     36490\n",
      "         yes       0.97      0.97      0.97     18770\n",
      "\n",
      "    accuracy                           0.98     55260\n",
      "   macro avg       0.98      0.98      0.98     55260\n",
      "weighted avg       0.98      0.98      0.98     55260\n",
      "\n",
      "\n"
     ]
    }
   ],
   "source": [
    "h.plot_classifier_scores(lgbm_loans_tuned_3, X_val_less, y_val, y_hat_val_lgbm3, labels)\n"
   ]
  },
  {
   "cell_type": "markdown",
   "metadata": {},
   "source": [
    "I got lower recall and precision of F1 score of \"1\", let's see the are under the precision recall curve."
   ]
  },
  {
   "cell_type": "code",
   "execution_count": 108,
   "metadata": {},
   "outputs": [
    {
     "data": {
      "text/plain": [
       "Text(0.5, 1.0, 'Precision-Recall curve')"
      ]
     },
     "execution_count": 108,
     "metadata": {},
     "output_type": "execute_result"
    },
    {
     "data": {
      "image/png": "[encoded data removed]",
      "text/plain": [
       "<Figure size 432x288 with 1 Axes>"
      ]
     },
     "metadata": {
      "needs_background": "light"
     },
     "output_type": "display_data"
    }
   ],
   "source": [
    "plot_precision_recall_curve(lgbm_loans_tuned_3, X_val_less, y_val, ax = plt.gca(),name = \"LGBM\")\n",
    "\n",
    "plt.title(\"Precision-Recall curve\")"
   ]
  },
  {
   "cell_type": "markdown",
   "metadata": {},
   "source": [
    "* SHAP values:"
   ]
  },
  {
   "cell_type": "code",
   "execution_count": 111,
   "metadata": {},
   "outputs": [],
   "source": [
    "features_less = X_train_under_less.columns.to_list()"
   ]
  },
  {
   "cell_type": "code",
   "execution_count": 109,
   "metadata": {},
   "outputs": [],
   "source": [
    "lgbm_explainer = shap.TreeExplainer(lgbm_loans_tuned_3[\"classifier\"])\n",
    "lgbm_shap_values = lgbm_explainer(preprocessor2.transform(X_val_less))"
   ]
  },
  {
   "cell_type": "code",
   "execution_count": 141,
   "metadata": {},
   "outputs": [
    {
     "data": {
      "image/png": "[encoded data removed]",
      "text/plain": [
       "<Figure size 576x338.4 with 1 Axes>"
      ]
     },
     "metadata": {
      "needs_background": "light"
     },
     "output_type": "display_data"
    }
   ],
   "source": [
    "shap.summary_plot(lgbm_shap_values[:, :, -1], feature_names=features_less, plot_type=\"bar\")"
   ]
  },
  {
   "cell_type": "code",
   "execution_count": 142,
   "metadata": {},
   "outputs": [
    {
     "data": {
      "image/png": "[encoded data removed]",
      "text/plain": [
       "<Figure size 1008x288 with 2 Axes>"
      ]
     },
     "metadata": {
      "needs_background": "light"
     },
     "output_type": "display_data"
    }
   ],
   "source": [
    "X_val_tr = preprocessor2.transform(X_val_less)\n",
    "shap.summary_plot(\n",
    "    lgbm_shap_values[:, :, -1],\n",
    "    X_val_tr,\n",
    "    feature_names=features_less,\n",
    "    max_display=10,\n",
    "    show=False,\n",
    ")\n",
    "\n",
    "fig, ax = plt.gcf(), plt.gca()\n",
    "\n",
    "fig.set_size_inches(14, 4)\n",
    "ax.set_title(\"Feature importance in LGBM\", fontdict={\"size\": 12})\n",
    "ax.tick_params(axis=\"both\", which=\"major\", labelsize=10)\n",
    "ax.tick_params(axis=\"both\", which=\"minor\", labelsize=8)"
   ]
  },
  {
   "cell_type": "markdown",
   "metadata": {},
   "source": [
    "So actually the same features like in XGBOOST seems the most important in the LGBM too: dti, emp_length, loan_amnt, addr_state and fico_score."
   ]
  },
  {
   "cell_type": "markdown",
   "metadata": {},
   "source": [
    "# 3. Grade prediction"
   ]
  },
  {
   "cell_type": "markdown",
   "metadata": {},
   "source": [
    "## 3.1. Feature pre-processing"
   ]
  },
  {
   "cell_type": "markdown",
   "metadata": {},
   "source": [
    "I decided to:\n",
    "1. separate all data from 2018, take a sample of it, make it the validation and test data.\n",
    "2. train data - first option: data from year 2013 to 2017 (including), under sample this data, to have equal amount of all grade groups.\n",
    "            - second option: all data from the year 2013-2017 for training."
   ]
  },
  {
   "cell_type": "code",
   "execution_count": 65,
   "metadata": {},
   "outputs": [],
   "source": [
    "accepted_loans_df = (accepted_loans_df\n",
    "    .pipe(h.months_sin_cos, \"month\")\n",
    "    .pipe(h.log_feature, \"loan_amnt\")\n",
    "    .pipe(h.log_feature, \"annual_inc\")\n",
    "    .pipe(h.log_feature, \"avg_cur_bal\")\n",
    "    .pipe(h.log_feature, \"dti\")\n",
    "    .pipe(h.log_feature, \"fico_score\")\n",
    "    .pipe(h.log_feature, \"last_fico_score\")\n",
    ")"
   ]
  },
  {
   "cell_type": "code",
   "execution_count": 66,
   "metadata": {},
   "outputs": [],
   "source": [
    "# Separating the year 2018.\n",
    "val_acc_data_2018 = accepted_loans_df[accepted_loans_df[\"year\"] ==2018]\n",
    "train_acc_data = accepted_loans_df[accepted_loans_df[\"year\"] != 2018]"
   ]
  },
  {
   "cell_type": "code",
   "execution_count": 106,
   "metadata": {},
   "outputs": [],
   "source": [
    "# Saved the data, that I'll use for further model training.\n",
    "# train_acc_data.to_csv(\"accepted_2013_2017_training.csv\", index=False)"
   ]
  },
  {
   "cell_type": "code",
   "execution_count": 107,
   "metadata": {},
   "outputs": [],
   "source": [
    "# Saved the data, that I'll use for further model validation from year 2018.\n",
    "# val_acc_data_2018.to_csv(\"accepted_2018_validation.csv\", index=False)"
   ]
  },
  {
   "cell_type": "markdown",
   "metadata": {},
   "source": [
    "* Train data, under sampling."
   ]
  },
  {
   "cell_type": "code",
   "execution_count": 67,
   "metadata": {},
   "outputs": [],
   "source": [
    "train_acc_data = pd.read_csv(\"accepted_2013_2017_training.csv\")\n",
    "val_acc_data_2018 = pd.read_csv(\"accepted_2018_validation.csv\")"
   ]
  },
  {
   "cell_type": "code",
   "execution_count": 68,
   "metadata": {},
   "outputs": [],
   "source": [
    "X_grade_train = train_acc_data.drop(columns=[\"grade\", \"sub_grade\", \"int_rate\", \"status\"], axis=1)\n",
    "y_grade_train = train_acc_data.grade"
   ]
  },
  {
   "cell_type": "code",
   "execution_count": 69,
   "metadata": {},
   "outputs": [
    {
     "data": {
      "text/plain": [
       "Counter({2: 148204, 1: 152848, 5: 5601, 0: 97247, 3: 56463, 4: 19925, 6: 2025})"
      ]
     },
     "execution_count": 69,
     "metadata": {},
     "output_type": "execute_result"
    }
   ],
   "source": [
    "Counter(y_grade_train)"
   ]
  },
  {
   "cell_type": "code",
   "execution_count": 70,
   "metadata": {},
   "outputs": [
    {
     "name": "stdout",
     "output_type": "stream",
     "text": [
      "Counter({0: 2025, 1: 2025, 2: 2025, 3: 2025, 4: 2025, 5: 2025, 6: 2025})\n"
     ]
    }
   ],
   "source": [
    "undersampler_grade = RandomUnderSampler(sampling_strategy=\"all\", random_state=123)\n",
    "# fit and apply the transform\n",
    "X_grade_train_under, y_grade_train_under = undersampler_grade.fit_resample(X_grade_train, y_grade_train)\n",
    "# summarize class distribution\n",
    "print(Counter(y_grade_train_under))"
   ]
  },
  {
   "cell_type": "markdown",
   "metadata": {},
   "source": [
    "* Validation data."
   ]
  },
  {
   "cell_type": "code",
   "execution_count": 71,
   "metadata": {},
   "outputs": [],
   "source": [
    "sample_2018_loans = val_acc_data_2018.sample(frac=0.05)"
   ]
  },
  {
   "cell_type": "code",
   "execution_count": 72,
   "metadata": {},
   "outputs": [],
   "source": [
    "X_grade_remain = sample_2018_loans.drop(columns=[\"grade\", \"sub_grade\", \"int_rate\", \"status\"], axis=1)\n",
    "y_grade_remain = sample_2018_loans.grade\n",
    "X_grade_val, X_grade_test, y_grade_val, y_grade_test = train_test_split(\n",
    "    X_grade_remain, y_grade_remain, test_size=0.5, random_state=123\n",
    ")"
   ]
  },
  {
   "cell_type": "code",
   "execution_count": 74,
   "metadata": {},
   "outputs": [],
   "source": [
    "# emp_length - passthrough\n",
    "numeric_acc_features = [\n",
    "    \"loan_amnt\",\n",
    "    \"annual_inc\",\n",
    "    \"dti\",\n",
    "   \t\"delinq_2yrs\",\n",
    "    \"inq_last_6mths\",\n",
    "    \"open_acc\",\t\n",
    "    \"pub_rec\",\n",
    "    \"total_acc\",\n",
    "    \"inq_last_12m\",\n",
    "    \"acc_open_past_24mths\",\n",
    "    \"avg_cur_bal\",\n",
    "    \"mo_sin_old_il_acct\",\n",
    "    \"mort_acc\",\n",
    "    \"pct_tl_nvr_dlq\",\n",
    "    \"pub_rec_bankruptcies\",\n",
    "    \"fico_score\",\n",
    "    \"last_fico_score\",\n",
    "    \"month\",\n",
    "    \"year\",\t\n",
    "    \"earliest_cr_line_year\",\n",
    "    \"cos_month\",\n",
    "    \"sin_month\",\n",
    "    \"log_loan_amnt\",\n",
    "    \"log_annual_inc\",\n",
    "    \"log_avg_cur_bal\",\n",
    "    \"log_dti\",\n",
    "    \"log_fico_score\",\n",
    "    \"log_last_fico_score\"\n",
    "]\n",
    "\n",
    "ordinal_acc_features = [\"application_type\", \"term\"]\n",
    "one_hot_acc_features = [\"home_ownership\", \"purpose\", \"emp_title\"]\n",
    "binary_acc_features = [\"addr_state\"]"
   ]
  },
  {
   "cell_type": "code",
   "execution_count": 75,
   "metadata": {},
   "outputs": [],
   "source": [
    "one_hot_transformer = Pipeline(\n",
    "    steps=[(\"one_hot_encoder\", OneHotEncoder(handle_unknown=\"ignore\"))]\n",
    ")\n",
    "\n",
    "binary_transformer = Pipeline(\n",
    "    steps=[(\"binary_encoder\", ce.BinaryEncoder(cols=binary_acc_features))]\n",
    ")\n",
    "\n",
    "numeric_transformer = Pipeline(steps=[(\"scaler\", StandardScaler())])\n",
    "\n",
    "ordinal_transformer = Pipeline(\n",
    "    steps=[\n",
    "        (\n",
    "            \"ordinal_encoder\",\n",
    "            OrdinalEncoder(handle_unknown=\"use_encoded_value\", unknown_value=-1),\n",
    "        )\n",
    "    ]\n",
    ")\n",
    "\n",
    "preprocessor_acc = ColumnTransformer(\n",
    "    transformers=[\n",
    "        (\"numeric\", numeric_transformer, numeric_acc_features,),\n",
    "        (\"one_hot\", one_hot_transformer, one_hot_acc_features),\n",
    "        (\"binary\", binary_transformer, binary_acc_features),\n",
    "        (\"ordinal\", ordinal_transformer, ordinal_acc_features),\n",
    "    ],\n",
    "    remainder=\"passthrough\",\n",
    ")"
   ]
  },
  {
   "cell_type": "code",
   "execution_count": null,
   "metadata": {},
   "outputs": [],
   "source": [
    "# base_line_grade = h.base_line_multi(X_grade_train_under, y_grade_train_under, preprocessor_acc)"
   ]
  },
  {
   "cell_type": "code",
   "execution_count": 200,
   "metadata": {},
   "outputs": [
    {
     "data": {
      "text/html": [
       "<style type=\"text/css\">\n",
       "#T_346ef_row0_col0, #T_346ef_row0_col1, #T_346ef_row0_col2 {\n",
       "  background-color: #006729;\n",
       "  color: #f1f1f1;\n",
       "}\n",
       "#T_346ef_row0_col3 {\n",
       "  background-color: #3fa95c;\n",
       "  color: #f1f1f1;\n",
       "}\n",
       "#T_346ef_row0_col4 {\n",
       "  background-color: #42ab5d;\n",
       "  color: #f1f1f1;\n",
       "}\n",
       "#T_346ef_row0_col5, #T_346ef_row1_col0, #T_346ef_row1_col1, #T_346ef_row1_col2, #T_346ef_row1_col3, #T_346ef_row1_col4 {\n",
       "  background-color: #00441b;\n",
       "  color: #f1f1f1;\n",
       "}\n",
       "#T_346ef_row1_col5 {\n",
       "  background-color: #d9f0d3;\n",
       "  color: #000000;\n",
       "}\n",
       "#T_346ef_row2_col0, #T_346ef_row2_col1, #T_346ef_row2_col2, #T_346ef_row2_col3, #T_346ef_row2_col4, #T_346ef_row3_col5 {\n",
       "  background-color: #f7fcf5;\n",
       "  color: #000000;\n",
       "}\n",
       "#T_346ef_row2_col5 {\n",
       "  background-color: #c4e8bd;\n",
       "  color: #000000;\n",
       "}\n",
       "#T_346ef_row3_col0, #T_346ef_row3_col1, #T_346ef_row3_col2 {\n",
       "  background-color: #62bb6d;\n",
       "  color: #f1f1f1;\n",
       "}\n",
       "#T_346ef_row3_col3 {\n",
       "  background-color: #acdea6;\n",
       "  color: #000000;\n",
       "}\n",
       "#T_346ef_row3_col4 {\n",
       "  background-color: #91d28e;\n",
       "  color: #000000;\n",
       "}\n",
       "</style>\n",
       "<table id=\"T_346ef\">\n",
       "  <thead>\n",
       "    <tr>\n",
       "      <th class=\"blank level0\" >&nbsp;</th>\n",
       "      <th id=\"T_346ef_level0_col0\" class=\"col_heading level0 col0\" >Balanced accuracy</th>\n",
       "      <th id=\"T_346ef_level0_col1\" class=\"col_heading level0 col1\" >Accuracy</th>\n",
       "      <th id=\"T_346ef_level0_col2\" class=\"col_heading level0 col2\" >Recall</th>\n",
       "      <th id=\"T_346ef_level0_col3\" class=\"col_heading level0 col3\" >Precision</th>\n",
       "      <th id=\"T_346ef_level0_col4\" class=\"col_heading level0 col4\" >f1</th>\n",
       "      <th id=\"T_346ef_level0_col5\" class=\"col_heading level0 col5\" >Fit_time</th>\n",
       "    </tr>\n",
       "  </thead>\n",
       "  <tbody>\n",
       "    <tr>\n",
       "      <th id=\"T_346ef_level0_row0\" class=\"row_heading level0 row0\" >Logistic regression</th>\n",
       "      <td id=\"T_346ef_row0_col0\" class=\"data row0 col0\" >0.380176</td>\n",
       "      <td id=\"T_346ef_row0_col1\" class=\"data row0 col1\" >0.380176</td>\n",
       "      <td id=\"T_346ef_row0_col2\" class=\"data row0 col2\" >0.380176</td>\n",
       "      <td id=\"T_346ef_row0_col3\" class=\"data row0 col3\" >0.365233</td>\n",
       "      <td id=\"T_346ef_row0_col4\" class=\"data row0 col4\" >0.369053</td>\n",
       "      <td id=\"T_346ef_row0_col5\" class=\"data row0 col5\" >15.997499</td>\n",
       "    </tr>\n",
       "    <tr>\n",
       "      <th id=\"T_346ef_level0_row1\" class=\"row_heading level0 row1\" >SVC</th>\n",
       "      <td id=\"T_346ef_row1_col0\" class=\"data row1 col0\" >0.381799</td>\n",
       "      <td id=\"T_346ef_row1_col1\" class=\"data row1 col1\" >0.381799</td>\n",
       "      <td id=\"T_346ef_row1_col2\" class=\"data row1 col2\" >0.381799</td>\n",
       "      <td id=\"T_346ef_row1_col3\" class=\"data row1 col3\" >0.370132</td>\n",
       "      <td id=\"T_346ef_row1_col4\" class=\"data row1 col4\" >0.373868</td>\n",
       "      <td id=\"T_346ef_row1_col5\" class=\"data row1 col5\" >3.765282</td>\n",
       "    </tr>\n",
       "    <tr>\n",
       "      <th id=\"T_346ef_level0_row2\" class=\"row_heading level0 row2\" >XGB classifier</th>\n",
       "      <td id=\"T_346ef_row2_col0\" class=\"data row2 col0\" >0.366702</td>\n",
       "      <td id=\"T_346ef_row2_col1\" class=\"data row2 col1\" >0.366702</td>\n",
       "      <td id=\"T_346ef_row2_col2\" class=\"data row2 col2\" >0.366702</td>\n",
       "      <td id=\"T_346ef_row2_col3\" class=\"data row2 col3\" >0.356926</td>\n",
       "      <td id=\"T_346ef_row2_col4\" class=\"data row2 col4\" >0.361055</td>\n",
       "      <td id=\"T_346ef_row2_col5\" class=\"data row2 col5\" >4.999987</td>\n",
       "    </tr>\n",
       "    <tr>\n",
       "      <th id=\"T_346ef_level0_row3\" class=\"row_heading level0 row3\" >LGBM classifier</th>\n",
       "      <td id=\"T_346ef_row3_col0\" class=\"data row3 col0\" >0.374956</td>\n",
       "      <td id=\"T_346ef_row3_col1\" class=\"data row3 col1\" >0.374956</td>\n",
       "      <td id=\"T_346ef_row3_col2\" class=\"data row3 col2\" >0.374956</td>\n",
       "      <td id=\"T_346ef_row3_col3\" class=\"data row3 col3\" >0.361409</td>\n",
       "      <td id=\"T_346ef_row3_col4\" class=\"data row3 col4\" >0.366433</td>\n",
       "      <td id=\"T_346ef_row3_col5\" class=\"data row3 col5\" >1.152572</td>\n",
       "    </tr>\n",
       "  </tbody>\n",
       "</table>\n"
      ],
      "text/plain": [
       "<pandas.io.formats.style.Styler at 0x260906fb610>"
      ]
     },
     "execution_count": 200,
     "metadata": {},
     "output_type": "execute_result"
    }
   ],
   "source": [
    "# base_line_grade"
   ]
  },
  {
   "cell_type": "markdown",
   "metadata": {},
   "source": [
    "Scores doesn't look so good, but actually almost the same were with the largest imbalanced training data set and it took ages for my machine to procede this task, so I'll keep this one smaller for further development with SVMClassifier."
   ]
  },
  {
   "cell_type": "markdown",
   "metadata": {},
   "source": [
    "## 3.2. SVM Classifier"
   ]
  },
  {
   "cell_type": "markdown",
   "metadata": {},
   "source": [
    "* No hyperparameter tuning."
   ]
  },
  {
   "cell_type": "code",
   "execution_count": null,
   "metadata": {},
   "outputs": [],
   "source": [
    "svc_grade = Pipeline(\n",
    "    steps=[\n",
    "        (\"preprocessor\", preprocessor_acc),\n",
    "        (\n",
    "            \"classifier\",\n",
    "            SVC(probability=True, class_weight=\"balanced\", random_state=123),\n",
    "        ),\n",
    "    ]\n",
    ")\n",
    "\n",
    "svc_grade.fit(X_grade_train_under, y_grade_train_under)"
   ]
  },
  {
   "cell_type": "code",
   "execution_count": 203,
   "metadata": {},
   "outputs": [],
   "source": [
    "y_hat_train_svc = svc_grade.predict(X_grade_train_under)\n",
    "y_hat_val_svc = svc_grade.predict(X_grade_val)"
   ]
  },
  {
   "cell_type": "code",
   "execution_count": 16,
   "metadata": {},
   "outputs": [],
   "source": [
    "labels_grade = [\"A\", \"B\", \"C\", \"D\", \"E\", \"F\", \"G\"]"
   ]
  },
  {
   "cell_type": "code",
   "execution_count": 205,
   "metadata": {},
   "outputs": [
    {
     "data": {
      "image/png": "[encoded data removed]",
      "text/plain": [
       "<Figure size 432x288 with 2 Axes>"
      ]
     },
     "metadata": {
      "needs_background": "light"
     },
     "output_type": "display_data"
    },
    {
     "name": "stdout",
     "output_type": "stream",
     "text": [
      "              precision    recall  f1-score   support\n",
      "\n",
      "           A       0.71      0.80      0.75      2025\n",
      "           B       0.46      0.54      0.50      2025\n",
      "           C       0.42      0.40      0.41      2025\n",
      "           D       0.39      0.37      0.38      2025\n",
      "           E       0.43      0.27      0.33      2025\n",
      "           F       0.41      0.46      0.43      2025\n",
      "           G       0.50      0.54      0.52      2025\n",
      "\n",
      "    accuracy                           0.48     14175\n",
      "   macro avg       0.48      0.48      0.47     14175\n",
      "weighted avg       0.48      0.48      0.47     14175\n",
      "\n",
      "\n"
     ]
    }
   ],
   "source": [
    "h.plot_classifier_scores(svc_grade, X_grade_train_under, y_grade_train_under, y_hat_train_svc, labels_grade)"
   ]
  },
  {
   "cell_type": "code",
   "execution_count": 206,
   "metadata": {},
   "outputs": [
    {
     "data": {
      "image/png": "[encoded data removed]",
      "text/plain": [
       "<Figure size 432x288 with 2 Axes>"
      ]
     },
     "metadata": {
      "needs_background": "light"
     },
     "output_type": "display_data"
    },
    {
     "name": "stdout",
     "output_type": "stream",
     "text": [
      "              precision    recall  f1-score   support\n",
      "\n",
      "           A       0.69      0.55      0.61      2277\n",
      "           B       0.41      0.36      0.39      2226\n",
      "           C       0.33      0.24      0.28      1793\n",
      "           D       0.22      0.24      0.23      1006\n",
      "           E       0.09      0.04      0.05       280\n",
      "           F       0.00      0.00      0.00        49\n",
      "           G       0.00      0.60      0.01        10\n",
      "\n",
      "    accuracy                           0.36      7641\n",
      "   macro avg       0.25      0.29      0.22      7641\n",
      "weighted avg       0.44      0.36      0.39      7641\n",
      "\n",
      "\n"
     ]
    }
   ],
   "source": [
    "h.plot_classifier_scores(svc_grade, X_grade_val, y_grade_val, y_hat_val_svc, labels_grade)"
   ]
  },
  {
   "cell_type": "markdown",
   "metadata": {},
   "source": [
    "Looks like over fitting, as the scores from training to validation data had dropped drastically. It predicts larger classes (in validation set better than smallest ones)."
   ]
  },
  {
   "cell_type": "markdown",
   "metadata": {},
   "source": [
    "* SVC hyperparameter tuning."
   ]
  },
  {
   "cell_type": "code",
   "execution_count": null,
   "metadata": {},
   "outputs": [],
   "source": [
    "study = optuna.create_study(direction=\"maximize\", study_name=\"SVC_PCA\") \n",
    "func = lambda trial: h.SVC_objective(trial, X_grade_train_under, y_grade_train_under, preprocessor_acc)\n",
    "study.optimize(func, n_trials=20)"
   ]
  },
  {
   "cell_type": "code",
   "execution_count": 18,
   "metadata": {},
   "outputs": [
    {
     "name": "stdout",
     "output_type": "stream",
     "text": [
      "\t\tdim_red: None\n",
      "\t\tsvc_C: 0.8261388101824684\n",
      "\t\tsvc_kernel: linear\n",
      "\t\tsvc_gamma: 0.37357680202203436\n",
      "\t\tsvc_class_weight: None\n",
      "\tBest value (f1): 0.36595\n"
     ]
    }
   ],
   "source": [
    "trial = study.best_trial\n",
    "pca_SVC = study.best_trial.params\n",
    "for key, value in pca_SVC.items():\n",
    "    print(f'\\t\\t{key}: {value}')\n",
    "\n",
    "print(f'\\tBest value (f1): {study.best_value:.5f}')\n"
   ]
  },
  {
   "cell_type": "code",
   "execution_count": null,
   "metadata": {},
   "outputs": [],
   "source": [
    "svc_grade_2 = Pipeline(\n",
    "    steps=[\n",
    "        (\"preprocessor\", preprocessor_acc),\n",
    "        (\n",
    "            \"classifier\",\n",
    "            SVC(\n",
    "                C=0.8261388101824684,\n",
    "                kernel=\"linear\",\n",
    "                gamma=0.37357680202203436,\n",
    "                probability=True,\n",
    "                class_weight=\"balanced\",\n",
    "                random_state=123,\n",
    "            ),\n",
    "        ),\n",
    "    ]\n",
    ")\n",
    "\n",
    "svc_grade_2.fit(X_grade_train_under, y_grade_train_under)"
   ]
  },
  {
   "cell_type": "code",
   "execution_count": 14,
   "metadata": {},
   "outputs": [],
   "source": [
    "y_hat_train_svc2 = svc_grade_2.predict(X_grade_train_under)\n",
    "y_hat_val_svc2 = svc_grade_2.predict(X_grade_val)"
   ]
  },
  {
   "cell_type": "code",
   "execution_count": 17,
   "metadata": {},
   "outputs": [
    {
     "data": {
      "image/png": "[encoded data removed]",
      "text/plain": [
       "<Figure size 432x288 with 2 Axes>"
      ]
     },
     "metadata": {
      "needs_background": "light"
     },
     "output_type": "display_data"
    },
    {
     "name": "stdout",
     "output_type": "stream",
     "text": [
      "              precision    recall  f1-score   support\n",
      "\n",
      "           A       0.68      0.65      0.67      2258\n",
      "           B       0.41      0.36      0.38      2234\n",
      "           C       0.35      0.22      0.27      1852\n",
      "           D       0.21      0.22      0.22       971\n",
      "           E       0.04      0.01      0.02       276\n",
      "           F       0.00      0.00      0.00        38\n",
      "           G       0.01      0.67      0.01        12\n",
      "\n",
      "    accuracy                           0.38      7641\n",
      "   macro avg       0.24      0.30      0.22      7641\n",
      "weighted avg       0.43      0.38      0.40      7641\n",
      "\n",
      "\n"
     ]
    }
   ],
   "source": [
    "h.plot_classifier_scores(svc_grade_2, X_grade_val, y_grade_val, y_hat_val_svc2, labels_grade)"
   ]
  },
  {
   "cell_type": "markdown",
   "metadata": {},
   "source": [
    "So, actually it improved a little bit, no PCA() was recommended by the optuna. Again grade \"A\" and \"G\" were predicted more accurate."
   ]
  },
  {
   "cell_type": "markdown",
   "metadata": {},
   "source": [
    "* Permutation importance."
   ]
  },
  {
   "cell_type": "code",
   "execution_count": 21,
   "metadata": {},
   "outputs": [],
   "source": [
    "feature_names_grade = h.feature_names_num_hot_bin_ord(\n",
    "    svc_grade_2,\n",
    "    numeric_acc_features,\n",
    "    binary_acc_features,\n",
    "    one_hot_acc_features,\n",
    "    ordinal_acc_features,\n",
    ")"
   ]
  },
  {
   "cell_type": "code",
   "execution_count": 20,
   "metadata": {},
   "outputs": [
    {
     "data": {
      "text/plain": [
       "Text(0.5, 0, 'Permutation Importance')"
      ]
     },
     "execution_count": 20,
     "metadata": {},
     "output_type": "execute_result"
    },
    {
     "data": {
      "image/png": "[encoded data removed]",
      "text/plain": [
       "<Figure size 360x720 with 1 Axes>"
      ]
     },
     "metadata": {
      "needs_background": "light"
     },
     "output_type": "display_data"
    }
   ],
   "source": [
    "perm_importance = permutation_importance(\n",
    "    svc_grade_2, X_grade_val, y_grade_val, n_repeats=10, random_state=123\n",
    ")\n",
    "\n",
    "features = np.array(feature_names_grade)\n",
    "\n",
    "sorted_idx = perm_importance.importances_mean.argsort()\n",
    "plt.figure(figsize=(5, 10))\n",
    "plt.barh(features[sorted_idx], perm_importance.importances_mean[sorted_idx])\n",
    "plt.xlabel(\"Permutation Importance\")"
   ]
  },
  {
   "cell_type": "markdown",
   "metadata": {},
   "source": [
    "So by permutation importance \"test\" most valuable features for the final result were: purpose: credit_card, annual income, log_loan_amnt, inq_last_12_months, purpose_debt_consolidation. "
   ]
  },
  {
   "cell_type": "markdown",
   "metadata": {},
   "source": [
    "* So, this doesn't satisfy me, and if I try to use all training data and all features with encoded ones, the number of features will be enormous. I decided to try another approach - XGBClassifier (as it did very good on the loan prediction and some of the same data actually and doesn't need scaling, and Ordinal encoding is enough)."
   ]
  },
  {
   "cell_type": "markdown",
   "metadata": {},
   "source": [
    "## 3.3. XGB Classifier"
   ]
  },
  {
   "cell_type": "markdown",
   "metadata": {},
   "source": [
    "### 3.3.1. XGBClassifier on not engineered features with default hyperparameters"
   ]
  },
  {
   "cell_type": "markdown",
   "metadata": {},
   "source": [
    "So it reduces dimensionality in another way, I will use tree based model, so I don't need scaling and engineered features(cos/sin months and log version of numeric values), also one_hot_encoding, binary encoding, all categorical features can be encoded with Ordinal encoder, so I'll use the smaller easier dataset with pipeline."
   ]
  },
  {
   "cell_type": "code",
   "execution_count": 76,
   "metadata": {},
   "outputs": [],
   "source": [
    "X_grade_train_under_xgb = X_grade_train_under.drop(\n",
    "    columns=[\n",
    "    \"cos_month\",\n",
    "    \"sin_month\",\n",
    "    \"log_loan_amnt\",\n",
    "    \"log_annual_inc\",\n",
    "    \"log_avg_cur_bal\",\n",
    "    \"log_dti\",\n",
    "    \"log_fico_score\",\n",
    "    \"log_last_fico_score\"\n",
    "    ]\n",
    ")\n",
    "\n",
    "X_grade_val_xgb = X_grade_val.drop(\n",
    "    columns=[\n",
    "    \"cos_month\",\n",
    "    \"sin_month\",\n",
    "    \"log_loan_amnt\",\n",
    "    \"log_annual_inc\",\n",
    "    \"log_avg_cur_bal\",\n",
    "    \"log_dti\",\n",
    "    \"log_fico_score\",\n",
    "    \"log_last_fico_score\"\n",
    "    ]\n",
    ")\n",
    "X_grade_test_xgb = X_grade_test.drop(\n",
    "    columns=[\n",
    "    \"cos_month\",\n",
    "    \"sin_month\",\n",
    "    \"log_loan_amnt\",\n",
    "    \"log_annual_inc\",\n",
    "    \"log_avg_cur_bal\",\n",
    "    \"log_dti\",\n",
    "    \"log_fico_score\",\n",
    "    \"log_last_fico_score\"\n",
    "    ]\n",
    ")"
   ]
  },
  {
   "cell_type": "code",
   "execution_count": 77,
   "metadata": {},
   "outputs": [],
   "source": [
    "ordinal_acc_features_xgb = [\"application_type\", \"home_ownership\", \"purpose\", \"emp_title\", \"addr_state\", \"term\"]"
   ]
  },
  {
   "cell_type": "code",
   "execution_count": 78,
   "metadata": {},
   "outputs": [],
   "source": [
    "ordinal_transformer_xgb = Pipeline(\n",
    "    steps=[\n",
    "        (\n",
    "            \"ordinal_encoder\",\n",
    "            OrdinalEncoder(handle_unknown=\"use_encoded_value\", unknown_value=-1),\n",
    "        )\n",
    "    ]\n",
    ")\n",
    "\n",
    "preprocessor_acc_xgb = ColumnTransformer(\n",
    "    transformers=[(\"ordinal\", ordinal_transformer_xgb, ordinal_acc_features_xgb)],\n",
    "    remainder=\"passthrough\",\n",
    ")"
   ]
  },
  {
   "cell_type": "code",
   "execution_count": 25,
   "metadata": {},
   "outputs": [
    {
     "name": "stdout",
     "output_type": "stream",
     "text": [
      "[14:23:31] WARNING: C:\\Windows\\Temp\\abs_557yfx631l\\croots\\recipe\\xgboost-split_1659548953302\\work\\src\\learner.cc:1115: Starting in XGBoost 1.3.0, the default evaluation metric used with the objective 'multi:softprob' was changed from 'merror' to 'mlogloss'. Explicitly set eval_metric if you'd like to restore the old behavior.\n"
     ]
    }
   ],
   "source": [
    "xgb_grade_1 = Pipeline(\n",
    "    steps=[\n",
    "        (\"preprocessor_xgb\", preprocessor_acc_xgb),\n",
    "        (\"classifier\", XGBClassifier(random_state=123, use_label_encoder=False)),\n",
    "    ]\n",
    ").fit(X_grade_train_under_xgb, y_grade_train_under)\n",
    "\n",
    "y_hat_train_grade = xgb_grade_1.predict(X_grade_train_under_xgb)\n",
    "y_hat_val_grade = xgb_grade_1.predict(X_grade_val_xgb)"
   ]
  },
  {
   "cell_type": "code",
   "execution_count": 26,
   "metadata": {},
   "outputs": [
    {
     "data": {
      "image/png": "[encoded data removed]",
      "text/plain": [
       "<Figure size 432x288 with 2 Axes>"
      ]
     },
     "metadata": {
      "needs_background": "light"
     },
     "output_type": "display_data"
    },
    {
     "name": "stdout",
     "output_type": "stream",
     "text": [
      "              precision    recall  f1-score   support\n",
      "\n",
      "           A       0.95      0.99      0.97      2025\n",
      "           B       0.92      0.96      0.94      2025\n",
      "           C       0.94      0.92      0.93      2025\n",
      "           D       0.96      0.88      0.92      2025\n",
      "           E       0.95      0.89      0.92      2025\n",
      "           F       0.92      0.95      0.94      2025\n",
      "           G       0.91      0.97      0.94      2025\n",
      "\n",
      "    accuracy                           0.94     14175\n",
      "   macro avg       0.94      0.94      0.94     14175\n",
      "weighted avg       0.94      0.94      0.94     14175\n",
      "\n",
      "\n"
     ]
    }
   ],
   "source": [
    "h.plot_classifier_scores(xgb_grade_1,X_grade_train_under_xgb, y_grade_train_under, y_hat_train_grade, labels_grade)"
   ]
  },
  {
   "cell_type": "code",
   "execution_count": 28,
   "metadata": {},
   "outputs": [
    {
     "data": {
      "image/png": "[encoded data removed]",
      "text/plain": [
       "<Figure size 432x288 with 2 Axes>"
      ]
     },
     "metadata": {
      "needs_background": "light"
     },
     "output_type": "display_data"
    },
    {
     "name": "stdout",
     "output_type": "stream",
     "text": [
      "              precision    recall  f1-score   support\n",
      "\n",
      "           A       0.67      0.60      0.64      2258\n",
      "           B       0.40      0.35      0.37      2234\n",
      "           C       0.34      0.26      0.29      1852\n",
      "           D       0.20      0.20      0.20       971\n",
      "           E       0.06      0.11      0.08       276\n",
      "           F       0.02      0.16      0.03        38\n",
      "           G       0.01      0.42      0.02        12\n",
      "\n",
      "    accuracy                           0.37      7641\n",
      "   macro avg       0.24      0.30      0.23      7641\n",
      "weighted avg       0.43      0.37      0.40      7641\n",
      "\n",
      "\n"
     ]
    }
   ],
   "source": [
    "h.plot_classifier_scores(xgb_grade_1,X_grade_val_xgb, y_grade_val, y_hat_val_grade, labels_grade)"
   ]
  },
  {
   "cell_type": "markdown",
   "metadata": {},
   "source": [
    "Seems like actual over fitting, the model just remembers the data, not generalizes. As we see this model could predict better the highest and the lowest grade. "
   ]
  },
  {
   "cell_type": "markdown",
   "metadata": {},
   "source": [
    "* Let's try to tune, would it help to overcome over fitting."
   ]
  },
  {
   "cell_type": "code",
   "execution_count": null,
   "metadata": {},
   "outputs": [],
   "source": [
    "study = optuna.create_study(direction=\"maximize\", study_name=\"XGBmulti\")\n",
    "func = lambda trial: h.xgb_objective_multi(trial, X_grade_train_under_xgb, y_grade_train_under, preprocessor_acc_xgb)\n",
    "study.optimize(func, n_trials=20)"
   ]
  },
  {
   "cell_type": "code",
   "execution_count": 70,
   "metadata": {},
   "outputs": [],
   "source": [
    "trial = study.best_trial\n",
    "xgb_params_grade = trial.params"
   ]
  },
  {
   "cell_type": "code",
   "execution_count": 71,
   "metadata": {},
   "outputs": [
    {
     "name": "stdout",
     "output_type": "stream",
     "text": [
      "\t\tn_estimators: 345\n",
      "\t\tlearning_rate: 0.23810052612348334\n",
      "\t\tnum_leaves: 1800\n",
      "\t\tmax_depth: 3\n",
      "\t\treg_alpha: 0.2686870661610261\n",
      "\t\treg_lambda: 14.681286151767107\n",
      "\tBest value (f1): 0.37462\n"
     ]
    }
   ],
   "source": [
    "for key, value in xgb_params_grade.items():\n",
    "    print(f'\\t\\t{key}: {value}')\n",
    "\n",
    "print(f'\\tBest value (f1): {study.best_value:.5f}')\n"
   ]
  },
  {
   "cell_type": "code",
   "execution_count": null,
   "metadata": {},
   "outputs": [],
   "source": [
    "xgb_grade_2 = Pipeline(\n",
    "    steps=[\n",
    "        (\"preprocessorxgb\", preprocessor_acc_xgb),\n",
    "        (\"classifier\", XGBClassifier(**xgb_params_grade, random_state=123, use_label_encoder=False)),\n",
    "    ]\n",
    ").fit(X_grade_train_under_xgb, y_grade_train_under)\n",
    "\n",
    "y_hat_train_grade2 = xgb_grade_2.predict(X_grade_train_under_xgb)\n",
    "y_hat_val_grade2 = xgb_grade_2.predict(X_grade_val_xgb)"
   ]
  },
  {
   "cell_type": "code",
   "execution_count": 73,
   "metadata": {},
   "outputs": [
    {
     "data": {
      "image/png": "[encoded data removed]",
      "text/plain": [
       "<Figure size 432x288 with 2 Axes>"
      ]
     },
     "metadata": {
      "needs_background": "light"
     },
     "output_type": "display_data"
    },
    {
     "name": "stdout",
     "output_type": "stream",
     "text": [
      "              precision    recall  f1-score   support\n",
      "\n",
      "           A       0.95      0.99      0.97      2025\n",
      "           B       0.92      0.96      0.94      2025\n",
      "           C       0.94      0.92      0.93      2025\n",
      "           D       0.96      0.88      0.92      2025\n",
      "           E       0.95      0.89      0.92      2025\n",
      "           F       0.92      0.95      0.94      2025\n",
      "           G       0.91      0.97      0.94      2025\n",
      "\n",
      "    accuracy                           0.94     14175\n",
      "   macro avg       0.94      0.94      0.94     14175\n",
      "weighted avg       0.94      0.94      0.94     14175\n",
      "\n",
      "\n"
     ]
    }
   ],
   "source": [
    "h.plot_classifier_scores(xgb_grade_2,X_grade_train_under_xgb, y_grade_train_under, y_hat_train_grade, labels_grade)"
   ]
  },
  {
   "cell_type": "code",
   "execution_count": 74,
   "metadata": {},
   "outputs": [
    {
     "data": {
      "image/png": "[encoded data removed]",
      "text/plain": [
       "<Figure size 432x288 with 2 Axes>"
      ]
     },
     "metadata": {
      "needs_background": "light"
     },
     "output_type": "display_data"
    },
    {
     "name": "stdout",
     "output_type": "stream",
     "text": [
      "              precision    recall  f1-score   support\n",
      "\n",
      "           A       0.66      0.62      0.64      2164\n",
      "           B       0.37      0.32      0.35      2133\n",
      "           C       0.35      0.26      0.30      1957\n",
      "           D       0.22      0.21      0.21      1033\n",
      "           E       0.09      0.15      0.11       299\n",
      "           F       0.02      0.20      0.04        44\n",
      "           G       0.01      0.36      0.02        11\n",
      "\n",
      "    accuracy                           0.37      7641\n",
      "   macro avg       0.25      0.30      0.24      7641\n",
      "weighted avg       0.41      0.37      0.39      7641\n",
      "\n",
      "\n"
     ]
    }
   ],
   "source": [
    "h.plot_classifier_scores(xgb_grade_2,X_grade_val_xgb, y_grade_val, y_hat_val_grade, labels_grade)"
   ]
  },
  {
   "cell_type": "markdown",
   "metadata": {},
   "source": [
    "On validation data did a little bit better, but all in all, still overfitting. I think the problem is too little data remained, so I'll try now the XGBClassifier with all training data from the taken sample (before my done under sampling)."
   ]
  },
  {
   "cell_type": "markdown",
   "metadata": {},
   "source": [
    "### 3.3.2. XGBClassifier with the whole data set without under sampling of grades"
   ]
  },
  {
   "cell_type": "code",
   "execution_count": 79,
   "metadata": {},
   "outputs": [],
   "source": [
    "X_grade_train_xgb = X_grade_train.drop(\n",
    "    columns=[\n",
    "    \"cos_month\",\n",
    "    \"sin_month\",\n",
    "    \"log_loan_amnt\",\n",
    "    \"log_annual_inc\",\n",
    "    \"log_avg_cur_bal\",\n",
    "    \"log_dti\",\n",
    "    \"log_fico_score\",\n",
    "    \"log_last_fico_score\"\n",
    "    ]\n",
    ")"
   ]
  },
  {
   "cell_type": "code",
   "execution_count": 33,
   "metadata": {},
   "outputs": [
    {
     "name": "stdout",
     "output_type": "stream",
     "text": [
      "[14:28:08] WARNING: C:\\Windows\\Temp\\abs_557yfx631l\\croots\\recipe\\xgboost-split_1659548953302\\work\\src\\learner.cc:1115: Starting in XGBoost 1.3.0, the default evaluation metric used with the objective 'multi:softprob' was changed from 'merror' to 'mlogloss'. Explicitly set eval_metric if you'd like to restore the old behavior.\n"
     ]
    }
   ],
   "source": [
    "xgb_grade_3 = Pipeline(\n",
    "    steps=[\n",
    "        (\"preprocessorxgb\", preprocessor_acc_xgb),\n",
    "        (\"classifier\", XGBClassifier(random_state=123, use_label_encoder=False)),\n",
    "    ]\n",
    ").fit(X_grade_train_xgb, y_grade_train)\n",
    "\n",
    "y_hat_train_grade_3 = xgb_grade_3.predict(X_grade_train_xgb)\n",
    "y_hat_val_grade_3 = xgb_grade_3.predict(X_grade_val_xgb)"
   ]
  },
  {
   "cell_type": "code",
   "execution_count": 35,
   "metadata": {},
   "outputs": [
    {
     "data": {
      "image/png": "[encoded data removed]",
      "text/plain": [
       "<Figure size 432x288 with 2 Axes>"
      ]
     },
     "metadata": {
      "needs_background": "light"
     },
     "output_type": "display_data"
    },
    {
     "name": "stdout",
     "output_type": "stream",
     "text": [
      "              precision    recall  f1-score   support\n",
      "\n",
      "           A       0.77      0.55      0.64      2258\n",
      "           B       0.40      0.48      0.44      2234\n",
      "           C       0.38      0.62      0.47      1852\n",
      "           D       0.37      0.12      0.18       971\n",
      "           E       0.24      0.02      0.03       276\n",
      "           F       0.00      0.00      0.00        38\n",
      "           G       0.00      0.00      0.00        12\n",
      "\n",
      "    accuracy                           0.47      7641\n",
      "   macro avg       0.31      0.25      0.25      7641\n",
      "weighted avg       0.49      0.47      0.45      7641\n",
      "\n",
      "\n"
     ]
    }
   ],
   "source": [
    "h.plot_classifier_scores(xgb_grade_3,X_grade_val_xgb, y_grade_val, y_hat_val_grade_3, labels_grade)"
   ]
  },
  {
   "cell_type": "markdown",
   "metadata": {},
   "source": [
    "This model does better, the difference between train and val sets is not so big, and in total we reached better accuracy and recall of first three grades, than in SVMClassifier. Let's try to tune it. All in all this one guesses better the larger grades (with more examples) and worse smaller grades."
   ]
  },
  {
   "cell_type": "markdown",
   "metadata": {},
   "source": [
    "* Hyperparameter tuning."
   ]
  },
  {
   "cell_type": "code",
   "execution_count": null,
   "metadata": {},
   "outputs": [],
   "source": [
    "study = optuna.create_study(direction=\"maximize\", study_name=\"XGBmulti\")\n",
    "func = lambda trial: h.xgb_objective_multi(trial, X_grade_train_xgb, y_grade_train, preprocessor_acc_xgb)\n",
    "study.optimize(func, n_trials=10)"
   ]
  },
  {
   "cell_type": "code",
   "execution_count": 39,
   "metadata": {},
   "outputs": [],
   "source": [
    "trial = study.best_trial\n",
    "xgb_params_grade2 = trial.params"
   ]
  },
  {
   "cell_type": "code",
   "execution_count": 40,
   "metadata": {},
   "outputs": [
    {
     "name": "stdout",
     "output_type": "stream",
     "text": [
      "\t\tn_estimators: 997\n",
      "\t\tlearning_rate: 0.17895328822760925\n",
      "\t\tnum_leaves: 1480\n",
      "\t\tmax_depth: 3\n",
      "\t\treg_alpha: 0.023247724629310334\n",
      "\t\treg_lambda: 0.12327667207815357\n",
      "\t\tscale_pos_weight: 12\n",
      "\tBest value (f1): 0.31803\n"
     ]
    }
   ],
   "source": [
    "for key, value in xgb_params_grade2.items():\n",
    "    print(f'\\t\\t{key}: {value}')\n",
    "\n",
    "print(f'\\tBest value (f1): {study.best_value:.5f}')\n"
   ]
  },
  {
   "cell_type": "code",
   "execution_count": null,
   "metadata": {},
   "outputs": [],
   "source": [
    "xgb_grade_4 = Pipeline(\n",
    "    steps=[\n",
    "        (\"preprocessorxgb\", preprocessor_acc_xgb),\n",
    "        (\"classifier\", XGBClassifier(**xgb_params_grade2, random_state=123, use_label_encoder=False)),\n",
    "    ]\n",
    ").fit(X_grade_train_xgb, y_grade_train)\n",
    "\n",
    "y_hat_train_grade4 = xgb_grade_4.predict(X_grade_train_xgb)\n",
    "y_hat_val_grade4 = xgb_grade_4.predict(X_grade_val_xgb)"
   ]
  },
  {
   "cell_type": "code",
   "execution_count": 45,
   "metadata": {},
   "outputs": [],
   "source": [
    "y_hat_test_grade4 = xgb_grade_4.predict(X_grade_test_xgb)"
   ]
  },
  {
   "cell_type": "code",
   "execution_count": 42,
   "metadata": {},
   "outputs": [
    {
     "data": {
      "image/png": "[encoded data removed]",
      "text/plain": [
       "<Figure size 432x288 with 2 Axes>"
      ]
     },
     "metadata": {
      "needs_background": "light"
     },
     "output_type": "display_data"
    },
    {
     "name": "stdout",
     "output_type": "stream",
     "text": [
      "              precision    recall  f1-score   support\n",
      "\n",
      "           A       0.78      0.56      0.65      2258\n",
      "           B       0.41      0.48      0.44      2234\n",
      "           C       0.38      0.62      0.47      1852\n",
      "           D       0.37      0.10      0.16       971\n",
      "           E       0.27      0.03      0.05       276\n",
      "           F       0.20      0.03      0.05        38\n",
      "           G       0.00      0.00      0.00        12\n",
      "\n",
      "    accuracy                           0.47      7641\n",
      "   macro avg       0.34      0.26      0.26      7641\n",
      "weighted avg       0.50      0.47      0.46      7641\n",
      "\n",
      "\n"
     ]
    }
   ],
   "source": [
    "h.plot_classifier_scores(xgb_grade_4,X_grade_val_xgb, y_grade_val, y_hat_val_grade4, labels_grade)"
   ]
  },
  {
   "cell_type": "code",
   "execution_count": 46,
   "metadata": {},
   "outputs": [
    {
     "data": {
      "image/png": "[encoded data removed]",
      "text/plain": [
       "<Figure size 432x288 with 2 Axes>"
      ]
     },
     "metadata": {
      "needs_background": "light"
     },
     "output_type": "display_data"
    },
    {
     "name": "stdout",
     "output_type": "stream",
     "text": [
      "              precision    recall  f1-score   support\n",
      "\n",
      "           A       0.74      0.56      0.64      2219\n",
      "           B       0.41      0.48      0.44      2243\n",
      "           C       0.39      0.62      0.48      1902\n",
      "           D       0.37      0.11      0.17       966\n",
      "           E       0.15      0.01      0.02       261\n",
      "           F       0.14      0.02      0.04        42\n",
      "           G       0.00      0.00      0.00         9\n",
      "\n",
      "    accuracy                           0.47      7642\n",
      "   macro avg       0.31      0.26      0.26      7642\n",
      "weighted avg       0.49      0.47      0.46      7642\n",
      "\n",
      "\n"
     ]
    }
   ],
   "source": [
    "h.plot_classifier_scores(xgb_grade_4,X_grade_test_xgb, y_grade_test, y_hat_test_grade4, labels_grade)"
   ]
  },
  {
   "cell_type": "markdown",
   "metadata": {},
   "source": [
    "This model actually did best in total, first three grades were predicted better, grades with less observations - worse. Let's see what features got the most importance."
   ]
  },
  {
   "cell_type": "markdown",
   "metadata": {},
   "source": [
    "* SHAP values for the grade prediction."
   ]
  },
  {
   "cell_type": "code",
   "execution_count": 43,
   "metadata": {},
   "outputs": [],
   "source": [
    "feature_names = X_grade_test_xgb.columns.tolist()"
   ]
  },
  {
   "cell_type": "code",
   "execution_count": 48,
   "metadata": {},
   "outputs": [
    {
     "name": "stderr",
     "output_type": "stream",
     "text": [
      "ntree_limit is deprecated, use `iteration_range` or model slicing instead.\n"
     ]
    }
   ],
   "source": [
    "X_grade_test_xgb_tr = preprocessor_acc_xgb.transform(X_grade_test_xgb)\n",
    "explainer = shap.TreeExplainer(xgb_grade_4[\"classifier\"])\n",
    "shap_values = explainer.shap_values(X_grade_test_xgb_tr)"
   ]
  },
  {
   "cell_type": "code",
   "execution_count": 49,
   "metadata": {},
   "outputs": [
    {
     "data": {
      "image/png": "[encoded data removed]",
      "text/plain": [
       "<Figure size 1008x360 with 1 Axes>"
      ]
     },
     "metadata": {
      "needs_background": "light"
     },
     "output_type": "display_data"
    }
   ],
   "source": [
    "shap.summary_plot(\n",
    "    shap_values,\n",
    "    X_grade_test_xgb_tr,\n",
    "    feature_names=feature_names,\n",
    "    max_display=15,\n",
    "    show=False,\n",
    "    class_names=[\"A\", \"B\", \"C\", \"D\", \"E\", \"F\", \"G\"],\n",
    ")\n",
    "\n",
    "fig, ax = plt.gcf(), plt.gca()\n",
    "\n",
    "fig.set_size_inches(14, 5)\n",
    "ax.set_title(\"Feature importance for grade prediction\", fontdict={\"size\": 12})\n",
    "ax.tick_params(axis=\"both\", which=\"major\", labelsize=10)\n",
    "ax.tick_params(axis=\"both\", which=\"minor\", labelsize=8)"
   ]
  },
  {
   "cell_type": "markdown",
   "metadata": {},
   "source": [
    "So the most important features for grade prediction in the XGBClassifier were: annual_inc, fico_score, purpose, delinq_2_yrs. But we can see that for different grades the importance of these features differs. \n",
    "I tried to up sample smaller grades with SMOTE, but it took unreasonable amount of time to train."
   ]
  },
  {
   "cell_type": "code",
   "execution_count": 50,
   "metadata": {},
   "outputs": [
    {
     "data": {
      "text/plain": [
       "['model_xgb_grade.joblib']"
      ]
     },
     "execution_count": 50,
     "metadata": {},
     "output_type": "execute_result"
    }
   ],
   "source": [
    "# filename = \"model_xgb_grade.joblib\"\n",
    "# dump(xgb_grade_4, filename)"
   ]
  },
  {
   "cell_type": "markdown",
   "metadata": {},
   "source": [
    "# 4. Sub_grade prediction"
   ]
  },
  {
   "cell_type": "markdown",
   "metadata": {},
   "source": [
    "I'll try to train XGB classifier, as it did best on loan and grade prediction and to train modules on different grades."
   ]
  },
  {
   "cell_type": "code",
   "execution_count": 89,
   "metadata": {},
   "outputs": [],
   "source": [
    "# Training data until 2018\n",
    "training_df = pd.read_csv(\"accepted_2013_2017_training.csv\")\n",
    "training_df[\"grade\"].replace(\n",
    "    [0, 1, 2, 3, 4, 5, 6], [\"A\", \"B\", \"C\", \"D\", \"E\", \"F\", \"G\"], inplace=True\n",
    ")\n",
    "# validation data sample \n",
    "test_df = pd.read_csv(\"accepted_2018_validation.csv\")\n",
    "test_df[\"grade\"].replace(\n",
    "    [0, 1, 2, 3, 4, 5, 6], [\"A\", \"B\", \"C\", \"D\", \"E\", \"F\", \"G\"], inplace=True\n",
    ")"
   ]
  },
  {
   "cell_type": "code",
   "execution_count": 90,
   "metadata": {},
   "outputs": [],
   "source": [
    "ordinal_features_subgrade = [\"application_type\", \"home_ownership\", \"purpose\", \"emp_title\", \"addr_state\", \"term\"]"
   ]
  },
  {
   "cell_type": "code",
   "execution_count": 91,
   "metadata": {},
   "outputs": [],
   "source": [
    "ordinal_transformer_subgrade = Pipeline(\n",
    "    steps=[\n",
    "        (\n",
    "            \"ordinal_encoder\",\n",
    "            OrdinalEncoder(handle_unknown=\"use_encoded_value\", unknown_value=-1),\n",
    "        )\n",
    "    ]\n",
    ")\n",
    "\n",
    "preprocessor_sub_grade = ColumnTransformer(\n",
    "    transformers=[(\"ordinal\", ordinal_transformer_subgrade, ordinal_features_subgrade)],\n",
    "    remainder=\"passthrough\",\n",
    ")"
   ]
  },
  {
   "cell_type": "markdown",
   "metadata": {},
   "source": [
    "This function trains models with default hyperparameters and returns metrics of trained models and the trained model itself."
   ]
  },
  {
   "cell_type": "code",
   "execution_count": 146,
   "metadata": {},
   "outputs": [
    {
     "name": "stdout",
     "output_type": "stream",
     "text": [
      "Starting training for grade A:\n",
      "        Grade  F1-score  Precision  Recall\n",
      "A1 - A5     A      0.23       0.25    0.26\n",
      "Starting training for grade B:\n",
      "        Grade  F1-score  Precision  Recall\n",
      "B1 - B5     B      0.21       0.22    0.24\n",
      "Starting training for grade C:\n",
      "        Grade  F1-score  Precision  Recall\n",
      "C1 - C5     C      0.20       0.22    0.23\n",
      "Starting training for grade D:\n",
      "        Grade  F1-score  Precision  Recall\n",
      "D1 - D5     D      0.19       0.21    0.20\n",
      "Starting training for grade E:\n",
      "        Grade  F1-score  Precision  Recall\n",
      "E1 - E5     E      0.23       0.24    0.25\n",
      "Starting training for grade F:\n",
      "        Grade  F1-score  Precision  Recall\n",
      "F1 - F5     F      0.23       0.23    0.24\n",
      "Starting training for grade G:\n",
      "        Grade  F1-score  Precision  Recall\n",
      "G1 - G5     G      0.16       0.19    0.17\n"
     ]
    }
   ],
   "source": [
    "for grade in [\"A\", \"B\", \"C\", \"D\", \"E\", \"F\", \"G\"]:\n",
    "    print(f\"Starting training for grade {grade}:\")\n",
    "    result, model = h.train_xgb_subgrade_default(grade, training_df, test_df,  preprocessor_sub_grade)\n",
    "    print(result)"
   ]
  },
  {
   "cell_type": "markdown",
   "metadata": {},
   "source": [
    "We have similar situation to Grade prediction. Sub-grades with smaller observation sizes have worst results. Also overall results became worse. From this we see, that to train one model for all 35 sub_grades is non sense, as the performance would be even worse."
   ]
  },
  {
   "cell_type": "markdown",
   "metadata": {},
   "source": [
    "* I Tried to tune and build one model of class \"A\", as got largest F1 score in the previous session, but the results did not get any better. So, I quit and saved the model for sub_grade of grade \"A\" with default hyper parameters."
   ]
  },
  {
   "cell_type": "code",
   "execution_count": 92,
   "metadata": {},
   "outputs": [],
   "source": [
    "train = training_df[training_df[\"grade\"] == \"A\"]\n",
    "X_train = train.drop(columns = [\n",
    "        \"grade\", \n",
    "        \"sub_grade\",\n",
    "        \"int_rate\",\n",
    "        \"status\",\n",
    "        \"cos_month\",\n",
    "        \"sin_month\",\n",
    "        \"log_loan_amnt\",\n",
    "        \"log_annual_inc\",\n",
    "        \"log_avg_cur_bal\",\n",
    "        \"log_dti\",\n",
    "        \"log_fico_score\",\n",
    "        \"log_last_fico_score\",])\n",
    "y_train = train.sub_grade\n",
    "\n",
    "test = test_df[test_df[\"grade\"] == \"A\"]\n",
    "X_test = test.drop(columns = [\n",
    "        \"sub_grade\", \n",
    "        \"grade\",        \n",
    "        \"int_rate\",\n",
    "        \"status\",\n",
    "        \"cos_month\",\n",
    "        \"sin_month\",\n",
    "        \"log_loan_amnt\",\n",
    "        \"log_annual_inc\",\n",
    "        \"log_avg_cur_bal\",\n",
    "        \"log_dti\",\n",
    "        \"log_fico_score\",\n",
    "        \"log_last_fico_score\",])\n",
    "y_test = test.sub_grade\n",
    "\n",
    "encoder = LabelEncoder()\n",
    "y_train = encoder.fit_transform(y_train)\n",
    "y_test = encoder.transform(y_test)"
   ]
  },
  {
   "cell_type": "code",
   "execution_count": null,
   "metadata": {},
   "outputs": [],
   "source": [
    "study = optuna.create_study(direction=\"maximize\", study_name=\"XGBmulti\")\n",
    "func = lambda trial: h.xgb_objective_multi(trial, X_train, pd.DataFrame(y_train), preprocessor_sub_grade)\n",
    "study.optimize(func, n_trials=20)"
   ]
  },
  {
   "cell_type": "code",
   "execution_count": 11,
   "metadata": {},
   "outputs": [],
   "source": [
    "trial = study.best_trial\n",
    "xgb_params_sub = trial.params"
   ]
  },
  {
   "cell_type": "code",
   "execution_count": 12,
   "metadata": {},
   "outputs": [
    {
     "name": "stdout",
     "output_type": "stream",
     "text": [
      "\t\tn_estimators: 286\n",
      "\t\tlearning_rate: 0.21364205441333542\n",
      "\t\tnum_leaves: 1300\n",
      "\t\tmax_depth: 10\n",
      "\t\treg_alpha: 1.3468347022797889\n",
      "\t\treg_lambda: 66.38974436276669\n",
      "\t\tscale_pos_weight: 51\n",
      "\tBest value (f1): 0.34692\n"
     ]
    }
   ],
   "source": [
    "for key, value in xgb_params_sub.items():\n",
    "    print(f'\\t\\t{key}: {value}')\n",
    "\n",
    "print(f'\\tBest value (f1): {study.best_value:.5f}')\n"
   ]
  },
  {
   "cell_type": "code",
   "execution_count": 13,
   "metadata": {},
   "outputs": [],
   "source": [
    "xgb_sub_A = Pipeline(\n",
    "    steps=[\n",
    "        (\"preprocessor\", preprocessor_sub_grade),\n",
    "        (\"classifier\", XGBClassifier(**xgb_params_sub,verbosity=0, random_state=123, use_label_encoder=False)),\n",
    "    ]\n",
    ").fit(X_train, y_train)\n",
    "\n",
    "y_pred_train = xgb_sub_A.predict(X_train)\n",
    "y_pred_test = xgb_sub_A.predict(X_test)"
   ]
  },
  {
   "cell_type": "code",
   "execution_count": 14,
   "metadata": {},
   "outputs": [],
   "source": [
    "labels_sub = list(encoder.classes_)"
   ]
  },
  {
   "cell_type": "code",
   "execution_count": 15,
   "metadata": {},
   "outputs": [
    {
     "data": {
      "image/png": "[encoded data removed]",
      "text/plain": [
       "<Figure size 432x288 with 2 Axes>"
      ]
     },
     "metadata": {
      "needs_background": "light"
     },
     "output_type": "display_data"
    },
    {
     "name": "stdout",
     "output_type": "stream",
     "text": [
      "              precision    recall  f1-score   support\n",
      "\n",
      "          A1       0.28      0.27      0.28     17502\n",
      "          A2       0.23      0.17      0.20     15276\n",
      "          A3       0.22      0.12      0.16     16919\n",
      "          A4       0.29      0.17      0.21     21020\n",
      "          A5       0.26      0.55      0.35     17589\n",
      "\n",
      "    accuracy                           0.26     88306\n",
      "   macro avg       0.26      0.26      0.24     88306\n",
      "weighted avg       0.26      0.26      0.24     88306\n",
      "\n",
      "\n"
     ]
    }
   ],
   "source": [
    "h.plot_classifier_scores(xgb_sub_A,X_test, y_test, y_pred_test, labels_sub)"
   ]
  },
  {
   "cell_type": "markdown",
   "metadata": {},
   "source": [
    "So we got a little bit better result of accuracy in total, but all in all almost all subgrades of grade A are predicted quite equally. I will save this tuned XGBClassifier of sub grades of grade A. In the same way would be trained modules for all grades."
   ]
  },
  {
   "cell_type": "code",
   "execution_count": 16,
   "metadata": {},
   "outputs": [
    {
     "data": {
      "text/plain": [
       "['model_xgb_sub.joblib']"
      ]
     },
     "execution_count": 16,
     "metadata": {},
     "output_type": "execute_result"
    }
   ],
   "source": [
    "# filename = \"model_xgb_sub.joblib\"\n",
    "# dump(xgb_sub_A, filename)"
   ]
  },
  {
   "cell_type": "markdown",
   "metadata": {},
   "source": [
    "# 5. Interest rate prediction"
   ]
  },
  {
   "cell_type": "markdown",
   "metadata": {},
   "source": [
    "## 5.1. Feature pre-processing, base line model"
   ]
  },
  {
   "cell_type": "markdown",
   "metadata": {},
   "source": [
    "The same all training can be done with every grade of the loans, but I decided to train only a model of grade \"A\", as training all data set took all night only of the base model. And the results of all data are unpleasant. Grade, sub grade and interest rate are interrelated and interest rate varies in the certain grade, according to it, so it just cannot be separated."
   ]
  },
  {
   "cell_type": "code",
   "execution_count": 4,
   "metadata": {},
   "outputs": [],
   "source": [
    "# Training data of grade \"A\"\n",
    "training_df = training_df[training_df[\"grade\"] == \"A\"]\n",
    "\n",
    "# validation data sample \n",
    "test_df = test_df[test_df[\"grade\"] == \"A\"]"
   ]
  },
  {
   "cell_type": "code",
   "execution_count": 5,
   "metadata": {},
   "outputs": [],
   "source": [
    "X_train_int = training_df.drop(columns=[\"grade\", \"sub_grade\", \"int_rate\", \"status\"], axis=1)\n",
    "y_train_int = training_df.int_rate"
   ]
  },
  {
   "cell_type": "code",
   "execution_count": 6,
   "metadata": {},
   "outputs": [],
   "source": [
    "X_test_int = test_df.drop(columns=[\"grade\", \"sub_grade\", \"int_rate\", \"status\"], axis=1)\n",
    "y_test_int = test_df.int_rate"
   ]
  },
  {
   "cell_type": "code",
   "execution_count": 7,
   "metadata": {},
   "outputs": [],
   "source": [
    "# emp_length - passthrough\n",
    "numeric_features_int = [\n",
    "    \"loan_amnt\",\n",
    "    \"annual_inc\",\n",
    "    \"dti\",\n",
    "   \t\"delinq_2yrs\",\n",
    "    \"inq_last_6mths\",\n",
    "    \"open_acc\",\t\n",
    "    \"pub_rec\",\n",
    "    \"total_acc\",\n",
    "    \"inq_last_12m\",\n",
    "    \"acc_open_past_24mths\",\n",
    "    \"avg_cur_bal\",\n",
    "    \"mo_sin_old_il_acct\",\n",
    "    \"mort_acc\",\n",
    "    \"pct_tl_nvr_dlq\",\n",
    "    \"pub_rec_bankruptcies\",\n",
    "    \"fico_score\",\n",
    "    \"last_fico_score\",\n",
    "    \"month\",\n",
    "    \"year\",\t\n",
    "    \"earliest_cr_line_year\",\n",
    "    \"cos_month\",\n",
    "    \"sin_month\",\n",
    "    \"log_loan_amnt\",\n",
    "    \"log_annual_inc\",\n",
    "    \"log_avg_cur_bal\",\n",
    "    \"log_dti\",\n",
    "    \"log_fico_score\",\n",
    "    \"log_last_fico_score\"\n",
    "]\n",
    "\n",
    "ordinal_features_int = [\"application_type\", \"term\"]\n",
    "one_hot_features_int = [\"home_ownership\", \"purpose\", \"emp_title\"]\n",
    "binary_features_int = [\"addr_state\"]"
   ]
  },
  {
   "cell_type": "code",
   "execution_count": 8,
   "metadata": {},
   "outputs": [],
   "source": [
    "one_hot_transformer_int = Pipeline(\n",
    "    steps=[(\"one_hot_encoder\", OneHotEncoder(handle_unknown=\"ignore\"))]\n",
    ")\n",
    "\n",
    "binary_transformer_int = Pipeline(\n",
    "    steps=[(\"binary_encoder\", ce.BinaryEncoder(cols=binary_features_int))]\n",
    ")\n",
    "\n",
    "numeric_transformer_int = Pipeline(steps=[(\"scaler\", StandardScaler())])\n",
    "\n",
    "ordinal_transformer_int = Pipeline(\n",
    "    steps=[\n",
    "        (\n",
    "            \"ordinal_encoder\",\n",
    "            OrdinalEncoder(handle_unknown=\"use_encoded_value\", unknown_value=-1),\n",
    "        )\n",
    "    ]\n",
    ")\n",
    "\n",
    "preprocessor_int = ColumnTransformer(\n",
    "    transformers=[\n",
    "        (\"numeric\", numeric_transformer_int, numeric_features_int),\n",
    "        (\"one_hot\", one_hot_transformer_int, one_hot_features_int),\n",
    "        (\"binary\", binary_transformer_int, binary_features_int),\n",
    "        (\"ordinal\", ordinal_transformer_int, ordinal_features_int),\n",
    "    ],\n",
    "    remainder=\"passthrough\",\n",
    ")"
   ]
  },
  {
   "cell_type": "code",
   "execution_count": 25,
   "metadata": {},
   "outputs": [],
   "source": [
    "# base_line_regression_A_int_rate = h.base_line_regression(X_train_int, y_train_int, preprocessor_int)"
   ]
  },
  {
   "cell_type": "code",
   "execution_count": 26,
   "metadata": {},
   "outputs": [
    {
     "data": {
      "text/html": [
       "<div>\n",
       "<style scoped>\n",
       "    .dataframe tbody tr th:only-of-type {\n",
       "        vertical-align: middle;\n",
       "    }\n",
       "\n",
       "    .dataframe tbody tr th {\n",
       "        vertical-align: top;\n",
       "    }\n",
       "\n",
       "    .dataframe thead th {\n",
       "        text-align: right;\n",
       "    }\n",
       "</style>\n",
       "<table border=\"1\" class=\"dataframe\">\n",
       "  <thead>\n",
       "    <tr style=\"text-align: right;\">\n",
       "      <th></th>\n",
       "      <th>Mean_absolute_error</th>\n",
       "      <th>Mean_squared_error</th>\n",
       "      <th>Root_mean_squared_error</th>\n",
       "      <th>R2</th>\n",
       "      <th>Fit time</th>\n",
       "    </tr>\n",
       "  </thead>\n",
       "  <tbody>\n",
       "    <tr>\n",
       "      <th>Elastic Net</th>\n",
       "      <td>0.84</td>\n",
       "      <td>1.00</td>\n",
       "      <td>1.00</td>\n",
       "      <td>-0.00</td>\n",
       "      <td>0.44</td>\n",
       "    </tr>\n",
       "    <tr>\n",
       "      <th>SVR</th>\n",
       "      <td>0.65</td>\n",
       "      <td>0.72</td>\n",
       "      <td>0.85</td>\n",
       "      <td>0.29</td>\n",
       "      <td>960.85</td>\n",
       "    </tr>\n",
       "    <tr>\n",
       "      <th>XGB Regressor</th>\n",
       "      <td>0.66</td>\n",
       "      <td>0.68</td>\n",
       "      <td>0.83</td>\n",
       "      <td>0.32</td>\n",
       "      <td>6.18</td>\n",
       "    </tr>\n",
       "    <tr>\n",
       "      <th>LGBM Regressor</th>\n",
       "      <td>0.66</td>\n",
       "      <td>0.67</td>\n",
       "      <td>0.82</td>\n",
       "      <td>0.33</td>\n",
       "      <td>1.18</td>\n",
       "    </tr>\n",
       "  </tbody>\n",
       "</table>\n",
       "</div>"
      ],
      "text/plain": [
       "                Mean_absolute_error  Mean_squared_error  \\\n",
       "Elastic Net                    0.84                1.00   \n",
       "SVR                            0.65                0.72   \n",
       "XGB Regressor                  0.66                0.68   \n",
       "LGBM Regressor                 0.66                0.67   \n",
       "\n",
       "                Root_mean_squared_error    R2  Fit time  \n",
       "Elastic Net                        1.00 -0.00      0.44  \n",
       "SVR                                0.85  0.29    960.85  \n",
       "XGB Regressor                      0.83  0.32      6.18  \n",
       "LGBM Regressor                     0.82  0.33      1.18  "
      ]
     },
     "execution_count": 26,
     "metadata": {},
     "output_type": "execute_result"
    }
   ],
   "source": [
    "# base_line_regression_A_int_rate"
   ]
  },
  {
   "cell_type": "markdown",
   "metadata": {},
   "source": [
    "The fitting time was enormous, so I'll continue with LGBM Regressor as it had one of the best Root mean squared error  and fitting time."
   ]
  },
  {
   "cell_type": "markdown",
   "metadata": {},
   "source": [
    "## 5.2. LGBM Regressor"
   ]
  },
  {
   "cell_type": "markdown",
   "metadata": {},
   "source": [
    "With all the same features and hyperparameter tuning."
   ]
  },
  {
   "cell_type": "code",
   "execution_count": null,
   "metadata": {},
   "outputs": [],
   "source": [
    "study = optuna.create_study(direction=\"minimize\", study_name=\"LGBMRegressor\")\n",
    "func = lambda trial: h.LGBM_regressor_objective(trial, X_train_int, y_train_int, preprocessor_int)\n",
    "study.optimize(func, n_trials=10)"
   ]
  },
  {
   "cell_type": "code",
   "execution_count": null,
   "metadata": {},
   "outputs": [],
   "source": [
    "trial = study.best_trial\n",
    "lgbm_reg_params = trial.params"
   ]
  },
  {
   "cell_type": "code",
   "execution_count": 63,
   "metadata": {},
   "outputs": [
    {
     "name": "stdout",
     "output_type": "stream",
     "text": [
      "\t\tn_estimators: 1234\n",
      "\t\treg_alpha: 0.3707016624572046\n",
      "\t\treg_lambda: 3.6457791876849215\n",
      "\t\tcolsample_bytree: 0.8\n",
      "\t\tsubsample: 0.8\n",
      "\t\tlearning_rate: 0.017\n",
      "\t\tmax_depth: 20\n",
      "\t\tnum_leaves: 184\n",
      "\t\tmin_child_samples: 68\n",
      "\t\tmin_data_per_groups: 82\n",
      "\tBest value: 0.82322\n"
     ]
    }
   ],
   "source": [
    "for key, value in lgbm_reg_params.items():\n",
    "    print(f'\\t\\t{key}: {value}')\n",
    "\n",
    "print(f'\\tBest value: {study.best_value:.5f}')\n"
   ]
  },
  {
   "cell_type": "code",
   "execution_count": null,
   "metadata": {},
   "outputs": [],
   "source": [
    "lgbm_reg_int_rate = Pipeline(\n",
    "    steps=[(\"preprocessor\", preprocessor_int), (\"regressor\", LGBMRegressor(n_estimators=1234, \n",
    "\t\treg_alpha=0.3707016624572046,\n",
    "\t\treg_lambda=3.6457791876849215,\n",
    "\t\tcolsample_bytree=0.8,\n",
    "\t\tsubsample=0.8,\n",
    "\t\tlearning_rate=0.017,\n",
    "\t\tmax_depth=20,\n",
    "\t\tnum_leaves=184,\n",
    "\t\tmin_child_samples=68))]\n",
    ")\n",
    "lgbm_reg_int_rate.fit(X_train_int, y_train_int)"
   ]
  },
  {
   "cell_type": "code",
   "execution_count": 12,
   "metadata": {},
   "outputs": [],
   "source": [
    "# predict future values\n",
    "y_hat_train_int = lgbm_reg_int_rate.predict(X_train_int)\n",
    "y_hat_test_int = lgbm_reg_int_rate.predict(X_test_int)"
   ]
  },
  {
   "cell_type": "code",
   "execution_count": 13,
   "metadata": {},
   "outputs": [
    {
     "name": "stdout",
     "output_type": "stream",
     "text": [
      "rmse: 0.6446858066871254\n"
     ]
    }
   ],
   "source": [
    "# Print respective output scores\n",
    "print(f\"rmse: {np.sqrt(mean_squared_error(y_train_int, y_hat_train_int))}\")"
   ]
  },
  {
   "cell_type": "code",
   "execution_count": 14,
   "metadata": {},
   "outputs": [
    {
     "name": "stdout",
     "output_type": "stream",
     "text": [
      "rmse: 0.9616042065870954\n"
     ]
    }
   ],
   "source": [
    "# Print respective output scores\n",
    "print(f\"rmse: {np.sqrt(mean_squared_error(y_test_int, y_hat_test_int))}\")"
   ]
  },
  {
   "cell_type": "markdown",
   "metadata": {},
   "source": [
    "So it went worse that in the baseline model. Let's try with default hyperparameters."
   ]
  },
  {
   "cell_type": "markdown",
   "metadata": {},
   "source": [
    "* LGBMRegressor with default hyperparameters."
   ]
  },
  {
   "cell_type": "code",
   "execution_count": null,
   "metadata": {},
   "outputs": [],
   "source": [
    "lgbm_reg_int_rate2 = Pipeline(\n",
    "    steps=[(\"preprocessor\", preprocessor_int), (\"regressor\", LGBMRegressor())]\n",
    ")\n",
    "lgbm_reg_int_rate2.fit(X_train_int, y_train_int)"
   ]
  },
  {
   "cell_type": "code",
   "execution_count": 16,
   "metadata": {},
   "outputs": [],
   "source": [
    "# predict future values\n",
    "y_hat_train_int2 = lgbm_reg_int_rate2.predict(X_train_int)\n",
    "y_hat_test_int2 = lgbm_reg_int_rate2.predict(X_test_int)"
   ]
  },
  {
   "cell_type": "code",
   "execution_count": 17,
   "metadata": {},
   "outputs": [
    {
     "name": "stdout",
     "output_type": "stream",
     "text": [
      "rmse: 0.800221839033761\n"
     ]
    }
   ],
   "source": [
    "# Print respective output scores\n",
    "print(f\"rmse: {np.sqrt(mean_squared_error(y_train_int, y_hat_train_int2))}\")"
   ]
  },
  {
   "cell_type": "code",
   "execution_count": 18,
   "metadata": {},
   "outputs": [
    {
     "name": "stdout",
     "output_type": "stream",
     "text": [
      "rmse: 0.9397368301065612\n"
     ]
    }
   ],
   "source": [
    "# Print respective output scores\n",
    "print(f\"rmse: {np.sqrt(mean_squared_error(y_test_int, y_hat_test_int2))}\")"
   ]
  },
  {
   "cell_type": "markdown",
   "metadata": {},
   "source": [
    "RMSE on test data got a little bit better. But I think the problem could be too many features."
   ]
  },
  {
   "cell_type": "markdown",
   "metadata": {},
   "source": [
    "* The last try, I think, that \"raw\" features: no scaling, no engineering, only with Ordinal Encoder."
   ]
  },
  {
   "cell_type": "code",
   "execution_count": 20,
   "metadata": {},
   "outputs": [],
   "source": [
    "X_train_int_raw = X_train_int.drop(\n",
    "    columns=[\n",
    "        \"cos_month\",\n",
    "        \"sin_month\",\n",
    "        \"log_loan_amnt\",\n",
    "        \"log_annual_inc\",\n",
    "        \"log_avg_cur_bal\",\n",
    "        \"log_dti\",\n",
    "        \"log_fico_score\",\n",
    "        \"log_last_fico_score\",\n",
    "    ]\n",
    ")\n",
    "\n",
    "X_test_int_raw = X_test_int.drop(\n",
    "    columns=[\n",
    "        \"cos_month\",\n",
    "        \"sin_month\",\n",
    "        \"log_loan_amnt\",\n",
    "        \"log_annual_inc\",\n",
    "        \"log_avg_cur_bal\",\n",
    "        \"log_dti\",\n",
    "        \"log_fico_score\",\n",
    "        \"log_last_fico_score\",\n",
    "    ]\n",
    ")"
   ]
  },
  {
   "cell_type": "code",
   "execution_count": 23,
   "metadata": {},
   "outputs": [],
   "source": [
    "ordinal_features_int_raw = [\"application_type\", \"term\", \"home_ownership\", \"purpose\", \"emp_title\", \"addr_state\"]"
   ]
  },
  {
   "cell_type": "code",
   "execution_count": 24,
   "metadata": {},
   "outputs": [],
   "source": [
    "preprocessor_int_raw = ColumnTransformer(\n",
    "    transformers=[\n",
    "        (\"ordinal\", ordinal_transformer_int, ordinal_features_int_raw),\n",
    "    ],\n",
    "    remainder=\"passthrough\",\n",
    ")"
   ]
  },
  {
   "cell_type": "code",
   "execution_count": null,
   "metadata": {},
   "outputs": [],
   "source": [
    "lgbm_reg_int_rate3 = Pipeline(\n",
    "    steps=[(\"preprocessor\", preprocessor_int_raw), (\"regressor\", LGBMRegressor())]\n",
    ")\n",
    "lgbm_reg_int_rate3.fit(X_train_int_raw, y_train_int)"
   ]
  },
  {
   "cell_type": "code",
   "execution_count": 26,
   "metadata": {},
   "outputs": [],
   "source": [
    "# predict future values\n",
    "y_hat_train_int3 = lgbm_reg_int_rate3.predict(X_train_int_raw)\n",
    "y_hat_test_int3 = lgbm_reg_int_rate3.predict(X_test_int_raw)"
   ]
  },
  {
   "cell_type": "code",
   "execution_count": 27,
   "metadata": {},
   "outputs": [
    {
     "name": "stdout",
     "output_type": "stream",
     "text": [
      "rmse: 0.8000245424139456\n"
     ]
    }
   ],
   "source": [
    "# Print respective output scores\n",
    "print(f\"rmse: {np.sqrt(mean_squared_error(y_train_int, y_hat_train_int3))}\")"
   ]
  },
  {
   "cell_type": "code",
   "execution_count": 28,
   "metadata": {},
   "outputs": [
    {
     "name": "stdout",
     "output_type": "stream",
     "text": [
      "rmse: 0.9402224053239102\n"
     ]
    }
   ],
   "source": [
    "# Print respective output scores\n",
    "print(f\"rmse: {np.sqrt(mean_squared_error(y_test_int, y_hat_test_int3))}\")"
   ]
  },
  {
   "cell_type": "markdown",
   "metadata": {},
   "source": [
    "* Let's try to tune hyper parameters."
   ]
  },
  {
   "cell_type": "code",
   "execution_count": null,
   "metadata": {},
   "outputs": [],
   "source": [
    "study = optuna.create_study(direction=\"minimize\", study_name=\"LGBMRegressor\")\n",
    "func = lambda trial: h.LGBM_regressor_objective(trial, X_train_int_raw, y_train_int, preprocessor_int_raw)\n",
    "study.optimize(func, n_trials=10)"
   ]
  },
  {
   "cell_type": "code",
   "execution_count": 30,
   "metadata": {},
   "outputs": [],
   "source": [
    "trial = study.best_trial\n",
    "lgbm_reg_raw_params = trial.params"
   ]
  },
  {
   "cell_type": "code",
   "execution_count": 31,
   "metadata": {},
   "outputs": [
    {
     "name": "stdout",
     "output_type": "stream",
     "text": [
      "\t\tn_estimators: 3022\n",
      "\t\treg_alpha: 0.0037494487732711887\n",
      "\t\treg_lambda: 0.08180066280420766\n",
      "\t\tcolsample_bytree: 0.8\n",
      "\t\tsubsample: 0.6\n",
      "\t\tlearning_rate: 0.006\n",
      "\t\tmax_depth: 10\n",
      "\t\tnum_leaves: 418\n",
      "\t\tmin_child_samples: 288\n",
      "\t\tmin_data_per_groups: 46\n",
      "\tBest value: 0.81859\n"
     ]
    }
   ],
   "source": [
    "for key, value in lgbm_reg_raw_params.items():\n",
    "    print(f'\\t\\t{key}: {value}')\n",
    "\n",
    "print(f'\\tBest value: {study.best_value:.5f}')\n"
   ]
  },
  {
   "cell_type": "code",
   "execution_count": null,
   "metadata": {},
   "outputs": [],
   "source": [
    "lgbm_reg_int_rate4 = Pipeline(\n",
    "    steps=[(\"preprocessor\", preprocessor_int_raw), (\"regressor\", LGBMRegressor(**lgbm_reg_raw_params))]\n",
    ")\n",
    "lgbm_reg_int_rate4.fit(X_train_int_raw, y_train_int)"
   ]
  },
  {
   "cell_type": "code",
   "execution_count": 33,
   "metadata": {},
   "outputs": [],
   "source": [
    "# predict future values\n",
    "y_hat_train_int4 = lgbm_reg_int_rate4.predict(X_train_int_raw)\n",
    "y_hat_test_int4 = lgbm_reg_int_rate4.predict(X_test_int_raw)"
   ]
  },
  {
   "cell_type": "code",
   "execution_count": 34,
   "metadata": {},
   "outputs": [
    {
     "name": "stdout",
     "output_type": "stream",
     "text": [
      "rmse: 0.7420074834821065\n"
     ]
    }
   ],
   "source": [
    "# Print respective output scores\n",
    "print(f\"rmse: {np.sqrt(mean_squared_error(y_train_int, y_hat_train_int4))}\")"
   ]
  },
  {
   "cell_type": "code",
   "execution_count": 35,
   "metadata": {},
   "outputs": [
    {
     "name": "stdout",
     "output_type": "stream",
     "text": [
      "rmse: 0.959937656018598\n"
     ]
    }
   ],
   "source": [
    "# Print respective output scores\n",
    "print(f\"rmse: {np.sqrt(mean_squared_error(y_test_int, y_hat_test_int4))}\")"
   ]
  },
  {
   "cell_type": "markdown",
   "metadata": {},
   "source": [
    "On test data RMSE got a little bit lower. I chose to save the lgbm_reg_int_rate3 model with default hyper parameters and lower number of features."
   ]
  },
  {
   "cell_type": "code",
   "execution_count": 36,
   "metadata": {},
   "outputs": [
    {
     "data": {
      "text/plain": [
       "['model_lgbm_int.joblib']"
      ]
     },
     "execution_count": 36,
     "metadata": {},
     "output_type": "execute_result"
    }
   ],
   "source": [
    "# filename = \"model_lgbm_int.joblib\"\n",
    "# dump(lgbm_reg_int_rate3, filename)"
   ]
  },
  {
   "cell_type": "markdown",
   "metadata": {},
   "source": [
    "Conclusions:\n",
    "\n",
    "**1. Loan acceptance/rejection prediction:**\n",
    "* baseline module showed that best results by F1 and ROC AUC score were from XGBoost and LGBM Classifier, Logistic regression, SVM Classifier did not do so well;\n",
    "* best idea was to give tree based module \"raw\" features (no engineering (like log of values, or sin/cos of month), no scaling), using only Ordinal Encoder fot the categorical variables. In this way the number of features did not increase and the results of XGBClassifier were pretty good.\n",
    "* most important features in XGBClassifier were: dti, emp_length, addr_state and fico_score (but very individually, as for some cases the same feature could have increased the final probability towards \"1\" and in other cases decrease, that's because the feature correlates with each other too). The same features were shown as the most important in the LGBM Classifier too.\n",
    "* best probability threshold should be 0.7499 according to this training data set.\n",
    "\n",
    "**2. Grade prediction:**\n",
    "* Support Vector Machines Classifier on validation data reached only 0.38 of total accuracy, it predicted better classes with more observation and worse with less. By permutation importance test: most important features were: credit_card, annual income, log_loan_amnt, inq_last_12_months, purpose_debt_consolidation. \n",
    "* XGBClassifier: trained on the whole data set of accepted loans from the year from 2013 to 2017 and validated on the sample of the year 2018, showed best result, but in total the accuracy on unseen data reached only 0.48. Shap values showed, that the most important features were: annual_inc, fico_score, purpose, delinq_2_yrs. But we can see that for different grades the importance of these features differs. \n",
    "\n",
    "**3. Sub_grade prediction:**\n",
    "* Grade, sub_grade and interest rate are very related, actually, when the grade is predicted, the sub_grade varies only in that grade. So I decided to train model in each grade class and saved only the model of grade \"A\", but the results are not satisfying, for further improvement, I would investigate each grade group and try the base line models on each grade group, as I think the patterns there varies quite a lot.\n",
    "\n",
    "**4. Interest rate prediction:**\n",
    "* Interest rate is inseparable from grade and sub grade. In the EDA part we saw how interest rate varies in every grade class, so  to train it on all data, in my opinion, was inefficient. I tried to train the module to predict interest rate in the grade \"A\". The same approach could be to train in all grades. The base line model showed quite equal results of RMSE from Elastic Net, SVR, XGB Regressor and LGBM Regressor, but the fitting time in SVR was enormous. The tuned LGBM Regressor showed the RMSE = 0.94. I think the main point, why RMSE on test data went so low, that this data was from 2018, actually unseen and it could cause worse performance than in the baseline module, but it shows the real life situation, when you get data from next year, that wasn't in the training set. \n",
    "\n",
    "* For further improvement I would do step wise hyperparameter tuning, as now it took ages to tune tons of different parameters at once and it's not so effective I think.\n",
    "* For further improvement on grade, sub-grade and interest rate prediction, I would investigate features again. I already dropped features with very little variance in the EDA, but if I would have had more information about the time, when each of features was registered, I think I could choose more of them and combine some of them together. As some averages of money in credit cards were suspicious to me, I did not know when this data was recorded, after the loan acceptance or before.\n"
   ]
  }
 ],
 "metadata": {
  "kernelspec": {
   "display_name": "Python 3.9.7 ('base')",
   "language": "python",
   "name": "python3"
  },
  "language_info": {
   "codemirror_mode": {
    "name": "ipython",
    "version": 3
   },
   "file_extension": ".py",
   "mimetype": "text/x-python",
   "name": "python",
   "nbconvert_exporter": "python",
   "pygments_lexer": "ipython3",
   "version": "3.9.12"
  },
  "orig_nbformat": 4,
  "vscode": {
   "interpreter": {
    "hash": "0c5fee0f00ea2c742b92b76075fa8dbcc0b49d869dc703f5f6953fe6305a2f31"
   }
  }
 },
 "nbformat": 4,
 "nbformat_minor": 2
}
